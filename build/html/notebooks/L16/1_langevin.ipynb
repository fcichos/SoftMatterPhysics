{
 "cells": [
  {
   "cell_type": "markdown",
   "id": "f93a6f9b-b0a2-44ec-9f5d-e1f8131f615e",
   "metadata": {},
   "source": [
    "# Brownian Motion"
   ]
  },
  {
   "cell_type": "markdown",
   "id": "e8a69b03-1391-47ff-a76e-e2600ba4c891",
   "metadata": {},
   "source": [
    "Brownian motion is a hallmark of soft matter as it reveals besides the discrete nature of matter also ther presence of thermal fluctuations. The overall dynamics of the motion of a colloid o molecule inside a liquid is, however rather complex. We will first do some estimates of colloidal/molecular dynamics \n",
    "\n",
    "\n",
    "![Colloidal Setup](img/colloid.png)\n",
    "\n",
    "\n",
    "We will for the following assume a colloid (solute) in a solvent (water) with the following properties:\n",
    "\n",
    "\n",
    "$$\n",
    "\\begin{array}{|c|c|}\n",
    "\\hline \\text { sphere radius } & \\mathrm{R}=100 \\mathrm{~nm} \\\\\n",
    "\\hline \\text { sphere mass density } & \\rho=1 \\mathrm{~g} / \\mathrm{cm}^3 \\\\\n",
    "\\hline \\text { temperature } & \\mathrm{T}=298 \\mathrm{~K} \\\\\n",
    "\\hline \\text { water viscosity } & \\eta=1 \\mathrm{cP} \\\\\n",
    "\\hline\n",
    "\\end{array}\n",
    "$$\n",
    "The dynamics of the colloid will span all times and the shortest relevant timescale is the one determining the collisions between the molecules of the solvent. \n",
    "\n",
    "1. Molecular Collision Time\n",
    "\n",
    "2. Momentum Relaxation Time\n",
    "\n",
    "3. Brownian Motion"
   ]
  },
  {
   "cell_type": "markdown",
   "id": "a9db8f7e-8239-48a9-9e26-cebec038abbc",
   "metadata": {},
   "source": [
    "## Langevin Theory"
   ]
  },
  {
   "cell_type": "code",
   "execution_count": 1,
   "id": "ebfabe38-e60b-44cb-b00b-65eefdc94657",
   "metadata": {
    "editable": true,
    "nbsphinx": "hidden",
    "slideshow": {
     "slide_type": ""
    },
    "tags": []
   },
   "outputs": [],
   "source": [
    "import numpy as np\n",
    "import matplotlib.pyplot as plt\n",
    "from numpy.linalg import norm\n",
    "from scipy.constants import c,epsilon_0,e,physical_constants\n",
    "import json\n",
    "\n",
    "%config InlineBackend.figure_format = 'retina' \n",
    "\n",
    "with open('style.json', 'r') as fp:\n",
    "    style = json.load(fp)\n",
    "    \n",
    "plt.rcParams.update(style) "
   ]
  },
  {
   "cell_type": "markdown",
   "id": "5b37e647-da49-451f-b9bc-b484c0388082",
   "metadata": {
    "editable": true,
    "slideshow": {
     "slide_type": ""
    },
    "tags": []
   },
   "source": [
    "### Langevin Equation"
   ]
  },
  {
   "cell_type": "markdown",
   "id": "d4f564f7-7641-4794-af91-fed9bab653cf",
   "metadata": {
    "editable": true,
    "slideshow": {
     "slide_type": ""
    },
    "tags": []
   },
   "source": [
    "Langevin theory provides now an equation of motion for objects whoch are subject to fluctuating forces. \n",
    "In the most general way, Newtons equation of motion is written as \n",
    "\n",
    "$$\n",
    "m\\frac{d\\vec{v}}{dt}=\\vec{F}(t)\n",
    "$$\n",
    "\n",
    "and contains on the right side the sum of all forces $\\vec{F}$ acting on a particle. This total force can be separated into\n",
    "\n",
    "- a viscous drag force, e.g. $6\\pi \\eta R \\vec{v}$ for a spherical particle \n",
    "- a force coming from and external potential $U$\n",
    "- random fluctuating force $\\vec{\\zeta}$ due to the collisions with the solvent \n",
    "\n",
    "With the force arising from an external potential we find the Langevin equation \n",
    "\n",
    "\n",
    "$$\n",
    "m\\frac{d\\vec{v}}{dt}=-6\\pi \\eta R \\vec{v}-\\nabla U +\\vec{\\zeta}(t) \\tag{Langevin Equation}\n",
    "$$\n",
    "\n",
    "The time dependence of the fluctuating force is not known in detail. Thus we can only refer to the statistical properties (e.g. its moments) when solving the Langevin equation. Therefore also not analytical solution for the position can be written down, only average proerties over an ensemble or over time (given ergodicity). \n",
    "\n",
    "The first moment (the mean) of the fluctuating force gives\n",
    "\n",
    "$$\n",
    "\\langle\\vec{\\zeta}(t) \\rangle =0\n",
    "$$\n",
    "\n",
    "i.e. there is no net force acting on average on the particle considered. Yet the mean velocity of the particle is not zero, $\\langle \\vec{v}\\rangle\\neq 0$. Considering the mean velocity at short times, for example, yields\n",
    "\n",
    "$$\n",
    "m\\frac{d\\langle \\vec{v}\\rangle}{dt}=-6\\pi \\eta R \\langle \\vec{v}\\rangle\n",
    "$$\n",
    "\n",
    "giving \n",
    "\n",
    "$$\n",
    "\\langle \\vec{v}\\rangle=\\vec{v}(0)\\exp\\left ( -\\frac{t}{\\tau_{mr}}\\right)\n",
    "$$\n",
    "\n",
    "with $\\tau_{mr}$ being the momentum relaxation time we discussed already earlier. We can further continue to derive the mean squared position by taking the scalar product of the Langevin equation with $\\vec{r}$ and neglecting the potential. Taking the ensemble average yields\n",
    "\n",
    "$$\n",
    "m\\frac{d}{dt}\\langle \\vec{r}\\cdot \\vec{v}\\rangle =-6\\pi \\eta R \\langle \\vec{r}\\cdot \\vec{v}\\rangle + m\\langle v^2\\rangle \n",
    "$$\n",
    "\n",
    "since \n",
    "\n",
    "$$\n",
    "\\vec{r}\\cdot \\frac{d\\vec{v}}{dt}=\\frac{d}{dt}(\\vec{r}\\cdot \\vec{v})-v^2\n",
    "$$\n",
    "\n",
    "and $\\langle \\vec{r}\\cdot \\vec{\\zeta}\\rangle =0$. Using our previous result for the mean squared velocity, i.e. $\\langle v^2\\rangle =3k_B T$ we obtain after integrating over time\n",
    "\n",
    "$$\n",
    "\\langle \\vec{r}\\cdot \\vec{v}\\rangle =C\\exp\\left ( -\\frac{t}{\\tau_{mr}}\\right)+ \\frac{k_B T}{2\\pi\\eta R}\n",
    "$$\n",
    "\n",
    "Using the initial condition $\\vec{r}(t=0)=0$ this gives \n",
    "\n",
    "$$\n",
    "\\langle \\vec{r}\\cdot \\vec{v}\\rangle =\\frac{k_B T}{2\\pi\\eta R}\\left (1 -\\exp\\left ( -\\frac{t}{\\tau_{mr}}\\right)\\right) \n",
    "$$\n",
    "\n",
    "A second integration over time of $\\langle \\vec{r}\\cdot \\vec{v}\\rangle$ can be carried out using \n",
    "\n",
    "$$\n",
    "\\langle \\vec{r}\\cdot \\vec{v}\\rangle=\\frac{1}{2}\\frac{d}{dt}\\langle r^2\\rangle \n",
    "$$\n",
    "\n",
    "and we finally obtain the mean squared displacement\n",
    "\n",
    "$$\n",
    "\\langle r^2\\rangle =\\frac{k_B T}{\\pi \\eta R}\\left [ t-\\tau_{mr}\\left ( 1-\\exp\\left (-\\frac{t}{\\tau_{mr}}\\right )\\right )\\right ]\n",
    "$$\n",
    "\n",
    "This is the mean squared displacement for an Ornstein Uhlenbeck process, a process, which has a persistence for a certain time and then is randomized. It described the transition from the ballistic to diffusive regime for a Brownian particle except that it misses the hydrodynamic memory in the intermediate regime. "
   ]
  },
  {
   "cell_type": "code",
   "execution_count": 2,
   "id": "3fe6c4b5-006c-4115-8e19-4e37052a8bd1",
   "metadata": {
    "editable": true,
    "nbsphinx": "hidden",
    "slideshow": {
     "slide_type": ""
    },
    "tags": []
   },
   "outputs": [],
   "source": [
    "t=np.logspace(-15,0,1000)\n",
    "k_B=1.381e-23 #J/K\n",
    "T=300 #K\n",
    "eta=1e-3 #mPa s\n",
    "R=200e-9 #m\n",
    "gamma=6*np.pi*eta*R\n",
    "k=1e-9 #N/m\n",
    "\n",
    "def MSD(t,taumr):\n",
    "    return(k_B*T/(np.pi*R)*(t-taumr*(1-np.exp(-t/taumr))))"
   ]
  },
  {
   "cell_type": "code",
   "execution_count": 3,
   "id": "9ff007c5-beae-4eea-a190-ccb0e4c2ed1d",
   "metadata": {
    "editable": true,
    "nbsphinx": "hidden",
    "slideshow": {
     "slide_type": ""
    },
    "tags": []
   },
   "outputs": [],
   "source": [
    "fig=plt.figure(figsize=(6,4))\n",
    "plt.ion()\n",
    "plt.loglog(t,MSD(t,1e-9),label=r\"$\\tau_{mr}=1e-9$ s\")\n",
    "plt.axvline(x=1e-9,linestyle=\"--\")\n",
    "plt.xlabel(r\"$t$\")\n",
    "plt.ylabel(r\"$<r^2(t)$\")\n",
    "plt.legend()\n",
    "plt.tight_layout()\n",
    "plt.savefig(\"img/test1.png\")\n",
    "plt.close(fig)"
   ]
  },
  {
   "cell_type": "markdown",
   "id": "738cda17-eeb2-41d7-9473-ae81aac3f96c",
   "metadata": {
    "editable": true,
    "slideshow": {
     "slide_type": ""
    },
    "tags": []
   },
   "source": [
    "![](img/test1.png)"
   ]
  },
  {
   "cell_type": "markdown",
   "id": "542e4101-40fd-4c48-811e-608dc1244f8d",
   "metadata": {
    "editable": true,
    "slideshow": {
     "slide_type": ""
    },
    "tags": []
   },
   "source": [
    "We can look at different limits of the process with respect to the momentum relaxation time, ie. \n",
    "\n",
    "**1) long time limits:** $t\\gg \\tau_{mr}$ \n",
    "\n",
    "In this regime, the exponential function has already decayed to zero and we obtain\n",
    "\n",
    "$$\n",
    "\\langle r^{2}\\rangle =6Dt \n",
    "$$\n",
    "\n",
    "with \n",
    "\n",
    "$$\n",
    "D=\\frac{k_B T}{6\\pi\\eta R}\n",
    "$$\n",
    "\n",
    "**1) short times:** $t\\approx \\tau_{mr}$ \n",
    "\n",
    "For short times, we can expand the exponential function up to second order\n",
    "\n",
    "$$\n",
    "\\exp\\left ( -\\frac{t}{\\tau_{mr}}\\right )\\approx 1-\\frac{t}{\\tau_{mr}}+\\frac{t^2}{\\tau_{mr}^2}\n",
    "$$\n",
    "\n",
    "to obtain for \n",
    "\n",
    "$$ \n",
    "t-\\tau_{mr}\\left ( 1-\\exp\\left (-\\frac{t}{\\tau_{mr}}\\right )\\right )\\approx \\frac{t^2}{2\\tau_{mr}}\n",
    "$$\n",
    "\n",
    "and for the mean squared displacement \n",
    "\n",
    "$$\n",
    "\\langle r^2 \\rangle \\propto t^2\n",
    "$$\n",
    "\n",
    "which is the result we expect for ballistic motion. Between both regimes, the MSD could be complicated as the short time motion starts a hydrodynamic flux in the environment which is influencing the particle motion again. These hydrodynamic memory effects cause the so called long time tails in the mean squared displacement. The Langevin equation in one dimension then reads like \n",
    "\n",
    "\\begin{equation}\n",
    "M^{\\prime} \\ddot{x}(t)= \n",
    "-6 \\pi \\eta R \\dot{x}(t)-6 R^{2} \\sqrt{\\pi \\rho_{f} \\eta} \\int_{0}^{t}\\left(t-t^{\\prime}\\right)^{-1 / 2} \\ddot{x}\\left(t^{\\prime}\\right) \\mathrm{d} t^{\\prime} -\\nabla U+\\zeta(t)\n",
    "\\end{equation}\n",
    "\n",
    "and contains the effective mass of the colloidal $M^{\\prime}$, the fluid density $\\rho_f$  and the external potential $U$. The full MSD for a colloidal particle is displayed in the figure below as measured for example in an optical tweezer in the Molecular Nanophotonics group. Note that the MSD axis goes down to $10^{-21}\\, {\\rm m}$, which corresponds to 30 picometer displacement, which is far below the size of a hydrodgen atom.\n",
    "\n",
    "![MSD](img/msd_bead.png)"
   ]
  },
  {
   "cell_type": "markdown",
   "id": "d55c7f5b-7e9f-4d78-a7d2-db110b086d8f",
   "metadata": {
    "editable": true,
    "slideshow": {
     "slide_type": ""
    },
    "tags": []
   },
   "source": [
    "While we so far only know that $\\langle\\vec{\\zeta}(t) \\rangle =0$, we also know that there must be a certain magnitude of the random force that is connected to the temperature of the sample. The short time autocorrelation of the noise should be of the type\n",
    "\n",
    "$$\n",
    "\\langle\\vec{\\zeta}(t_1)\\cdot \\vec{\\zeta}(t_2) \\rangle =A\\delta (t_1-t_2)\n",
    "$$\n",
    "\n",
    "stating the the forces are truly random and only correlated, when the times conincide. We would like to determine the prefactor $A$ now. We can write down the Langevin equation with \n",
    "\n",
    "$$\n",
    "\\frac{d}{dt}\\vec{v}(t)=-\\frac{1}{\\tau_{mr}}\\vec{v}(t)+\\frac{1}{m}\\vec{\\zeta}(t)\n",
    "$$\n",
    "\n",
    "and multiply by $\\exp(t/\\tau_{mr})$, which results in \n",
    "\n",
    "$$\n",
    "\\exp\\left (\\frac{t}{\\tau_{mr}}\\right )\\frac{d}{dt}\\vec{v}(t)+\\frac{1}{\\tau_{mr}}\\exp\\left (\\frac{t}{\\tau_{mr}}\\right )\\vec{v}(t)=\\frac{d}{dt}\\left (\\exp\\left (\\frac{t}{\\tau_{mr}}\\right )\\vec{v}(t) \\right )=\\exp\\left(\\frac{t}{\\tau_{mr}}\\right )\\frac{1}{m}\\vec{\\zeta}(t)\n",
    "$$\n",
    "\n",
    "Integrating both sides of the two right parts over time results in \n",
    "\n",
    "$$\n",
    "\\vec{v}(t)=\\vec{v}(0)\\exp \\left (-\\frac{t}{\\tau_{mr}} \\right )+\\exp \\left (-\\frac{t}{\\tau_{mr}} \\right )\\frac{1}{m}\\int_0^t \\exp \\left (\\frac{t'}{\\tau_{mr}} \\right )\\vec{\\zeta}(t')dt'\n",
    "$$\n",
    "\n",
    "which is the time evolution of the velocity. To obtain $\\langle\\vec{\\zeta}(t_1)\\cdot \\vec{\\zeta}(t_2) \\rangle$, we need to calculate the product of the velocity at two times and take the ensemble average. The calculation is essentially a writing exercise which at the end yields three different terms.\n",
    "\n",
    "The first term contains\n",
    "\n",
    "$$\n",
    "\\langle v_0^2 \\rangle \\exp\\left (-\\frac{2t}{\\tau_{mr}} \\right )\\rightarrow 0\n",
    "$$\n",
    "\n",
    "which decays to zero for long times. The second term contains two mixed terms of the type\n",
    "\n",
    "$$\n",
    "\\frac{v_0}{m}\\exp\\left (-\\frac{t}{\\tau_{mr}} \\right ) \\int \\ldots \\rightarrow 0\n",
    "$$\n",
    "\n",
    "which also decay to zero for long times. The last term contains\n",
    "\n",
    "$$\n",
    "\\frac{1}{m^2}\\int_{-\\infty}^{t}dt' \\int_{-\\infty}^{t}dt''\\exp\\left ( -\\frac{t-t'}{\\tau_{mr}} \\right )\\exp\\left ( -\\frac{t-t''}{\\tau_{mr}} \\right )\\langle \\vec{\\zeta}(t')\\vec{\\zeta}(t'')\\rangle\n",
    "$$\n",
    "\n",
    "whcih is the only nonzero term. Inserting our initial assumption $\\langle\\vec{\\zeta}(t_1)\\cdot \\vec{\\zeta}(t_2) \\rangle =A\\delta (t_1-t_2)$ results in the mean squared velocity\n",
    "\n",
    "$$\n",
    "\\langle v^2\\rangle =\\frac{A}{2m}\\int_{-\\infty}^{t}dt' \\exp\\left ( -\\frac{2(t-t')}{\\tau_{mr}}\\right)=\\frac{A\\tau_{mr}}{2m^2}\n",
    "$$\n",
    "\n",
    "Since the velocity also has to comply with equipartition, i.e. \n",
    "\n",
    "$$\n",
    "\\langle v^2\\rangle=\\frac{k_B T}{m}=\\frac{A\\tau_{mr}}{2m^2}\n",
    "$$\n",
    "\n",
    "we find \n",
    "\n",
    "$$\n",
    "A=2\\gamma k_B T\n",
    "$$\n",
    "\n",
    "with $\\gamma=6\\pi\\eta R$ or\n",
    "\n",
    "$$\n",
    "\\langle\\vec{\\zeta}(t_1)\\cdot \\vec{\\zeta}(t_2) \\rangle =2\\gamma k_B T\\delta (t_1-t_2)\n",
    "$$\n",
    "\n",
    "which is a very fundamental result. It states that the fluctuating force $\\vec{\\zeta}(t)$ are related to the viscous forces expressed by the friction coefficient $\\gamma$. This makes sensse, since the friction forces must dissipate energy into heat. The motion would thus come to a rest if heat and dynamics would be decoupled. The law we obtained is thus stateing the dissipated energy goes back again into kinetic energy. This is the statement of the fluctuation dissipation theorem,"
   ]
  },
  {
   "cell_type": "markdown",
   "id": "5b060f5a-4b9f-4149-9f42-1f6eb6aa9d24",
   "metadata": {
    "editable": true,
    "slideshow": {
     "slide_type": ""
    },
    "tags": []
   },
   "source": [
    "## Fluctuation Dissipation Theorem"
   ]
  },
  {
   "cell_type": "markdown",
   "id": "b9073cf7-7a60-4790-9d52-69e2d8ff68aa",
   "metadata": {
    "editable": true,
    "slideshow": {
     "slide_type": ""
    },
    "tags": []
   },
   "source": [
    "The fluctuation dissipation theorem (FDT) generalizes the previous finding into \n",
    "\n",
    "$$\n",
    "\\chi''(\\omega)=\\frac{\\omega}{2k_B T}\\langle |x_{\\omega}|^2\\rangle \\tag{Fluctuation dissipation relation}\n",
    "$$\n",
    "\n",
    "which is now converted into frequency space. On the left side is the imaginary part of a response function or susceptibility $\\chi$, which is connected to the dissipation. The right side contains the power spectral density of the fluctuation of a variable $x_{\\omega}$ at the frequency $\\omega$. So the amplitude of a fluctuation at a certain frequency is connected to the dissipation in equilibrium."
   ]
  },
  {
   "cell_type": "markdown",
   "id": "82d327da-5efe-49ab-b2dd-6f8c2b50da8c",
   "metadata": {
    "editable": true,
    "slideshow": {
     "slide_type": ""
    },
    "tags": []
   },
   "source": [
    "### Damped Driven Harmonic Oscillator"
   ]
  },
  {
   "cell_type": "markdown",
   "id": "dad25c9b-44a8-4e33-a5ea-8b96f0826d6e",
   "metadata": {
    "editable": true,
    "slideshow": {
     "slide_type": ""
    },
    "tags": []
   },
   "source": [
    "We would like to have a look at the FDT using a 1d damped driven oscillator given by the following equation\n",
    "\n",
    "$$\n",
    "m\\ddot{x}+\\gamma \\dot{x}+kx=F(t)\n",
    "$$\n",
    "\n",
    "with $k$ being the spring constant of the harmonic potential and $\\gamma$ the friction coefficient. Solving this differential equation yields for the amplitude of the oscillation at a certain driving frequency of $F(t)$\n",
    "\n",
    "$$\n",
    "x_{\\omega}=\\frac{1}{k-m\\omega^2-i\\gamma \\omega}F_{\\omega}\n",
    "$$\n",
    "\n",
    "which is clearly a linear response relation as amplitude and force dependent lineraly on each other.\n",
    "The amplitude of the force is actually the amplitude of the fluctuating force, we obtained for the Langevin equation before, e.g. $F_{\\omega}=A=\\sqrt{2\\gamma k_B T}$. As this is white noise, the amplitude at different frequencies is the same.The term converting the force into an amplitude is the response function\n",
    "\n",
    "$$\n",
    "\\chi(\\omega)=\\frac{1}{k-m\\omega^2-i\\gamma \\omega} \\tag{response function}\n",
    "$$\n",
    "\n",
    "which can be split into real and imaginary part, i.e. $\\chi=\\chi'(\\omega)+i\\chi'' (\\omega)$. A quick calculation shows that \n",
    "\n",
    "$$\n",
    "\\chi''(\\omega)=\\frac{\\omega \\gamma}{(k-m\\omega^2)^2+(\\omega \\gamma)^2}\n",
    "$$\n",
    "\n",
    "In the overdamped regime (i.e. $m=0$) we therefore find for the imaginary part\n",
    "\n",
    "$$\n",
    "\\chi''(\\omega)=\\frac{\\omega \\gamma}{k^2+(\\omega \\gamma)^2}\n",
    "$$\n",
    "\n",
    "If we furthe rswitch off the harmonic potential we just have \n",
    "\n",
    "$$\n",
    "\\chi''(\\omega)=\\frac{\\omega \\gamma}{\\omega^2 \\gamma^2}\n",
    "$$\n",
    "\n",
    "which is the response function for Brownian motion. From this we find \n",
    "\n",
    "$$\n",
    "\\frac{\\chi''(\\omega)}{\\omega}=\\frac{1}{\\omega^2 \\gamma}\\langle |x_{\\omega}|^2\\rangle=\\frac{1}{\\gamma \\omega^2}\n",
    "$$\n",
    "\n",
    "or \n",
    "\n",
    "$$\n",
    "\\langle |x_{\\omega}|^2\\rangle=\\frac{2k_B T}{\\gamma \\omega^2}\n",
    "$$\n",
    "\n",
    "for the amplitude and \n",
    "\n",
    "$$\n",
    "\\langle |v_{\\omega}|^2\\rangle=\\frac{2k_B T}{\\gamma}\n",
    "$$\n",
    "\n",
    "for the velocity amplitude. This is the frequency spectrum of the positional and speed fluctuations of a Brownian particle. This is exactly what is found in an optical tweezer for a Brownian particle at high frequencies. At lower frequencies the particle bounces from the harmonic potential and the motion of the colloid is restricted.\n",
    "\n",
    "\n",
    "$$\n",
    "\\frac{\\chi''(\\omega)}{\\omega}=\\frac{\\gamma}{k^2+(\\omega \\gamma)^2}=\\frac{1}{2k_B T}\\langle |x_{\\omega}|^2\\rangle\n",
    "$$\n",
    "\n",
    "From this follows the power spectral density of the positional fluctuations in an optical tweezers\n",
    "\n",
    "\n",
    "$$\n",
    "\\langle |x_{\\omega}|^2\\rangle =\\frac{2k_B T \\gamma}{k^2}\\frac{1}{1+(\\omega/\\omega_0)^2}\n",
    "$$\n",
    "\n",
    "Here $\\omega_0=k/\\gamma$ is a particular frequency at which the $1/\\omega^2$ dependence of the power spectrum turns into a plateau at small frequencies.  The last equation is heavily used to calibrate optical tweezers, as it can be used to measure the force constant $k$."
   ]
  },
  {
   "cell_type": "code",
   "execution_count": 9,
   "id": "e608a987-85b6-4681-9b68-3b0c2c3937d3",
   "metadata": {
    "editable": true,
    "nbsphinx": "hidden",
    "slideshow": {
     "slide_type": ""
    },
    "tags": []
   },
   "outputs": [],
   "source": [
    "omega=np.logspace(-3,3,1000)\n",
    "k_B=1.381e-23 #J/K\n",
    "T=300 #K\n",
    "eta=1e-3 #mPa s\n",
    "R=200e-9 #m\n",
    "gamma=6*np.pi*eta*R\n",
    "k=1e-9 #N/m\n",
    "\n",
    "def PSD(omega,k):\n",
    "    return(2*k_B*T*gamma/(k**2*(1+omega*gamma/k)**2))"
   ]
  },
  {
   "cell_type": "code",
   "execution_count": 14,
   "id": "b14a4ffb-d5de-4c41-8b8c-c067ec7fe6df",
   "metadata": {
    "editable": true,
    "nbsphinx": "hidden",
    "slideshow": {
     "slide_type": ""
    },
    "tags": []
   },
   "outputs": [
    {
     "data": {
      "image/png": "[encoded data removed]",
      "text/plain": [
       "<Figure size 600x400 with 1 Axes>"
      ]
     },
     "metadata": {
      "image/png": {
       "height": 367,
       "width": 574
      }
     },
     "output_type": "display_data"
    }
   ],
   "source": [
    "fig=plt.figure(figsize=(6,4))\n",
    "\n",
    "plt.loglog(omega,PSD(omega,k),label=r\"$k=1\\,$ nN\")\n",
    "plt.loglog(omega,PSD(omega,k/2),label=r\"$k=0.5\\,$ nN\")\n",
    "plt.loglog(omega,PSD(omega,k/4),label=r\"$k=0.25\\,$ nN\")\n",
    "plt.axvline(x=k/gamma,linestyle=\"--\",color=\"k\"w)\n",
    "plt.axvline(x=k/gamma/2,linestyle=\"--\",color=\"k\")\n",
    "plt.axvline(x=k/gamma/4,linestyle=\"--\",color=\"k\")\n",
    "plt.xlabel(r\"$\\omega$\")\n",
    "plt.ylabel(r\"$<|x_{\\omega}|^2>$\")\n",
    "plt.legend()\n",
    "plt.tight_layout()\n",
    "#plt.savefig(\"img/test.png\")\n",
    "plt.show()"
   ]
  }
 ],
 "metadata": {
  "kernelspec": {
   "display_name": "Python 3 (ipykernel)",
   "language": "python",
   "name": "python3"
  },
  "language_info": {
   "codemirror_mode": {
    "name": "ipython",
    "version": 3
   },
   "file_extension": ".py",
   "mimetype": "text/x-python",
   "name": "python",
   "nbconvert_exporter": "python",
   "pygments_lexer": "ipython3",
   "version": "3.8.16"
  },
  "toc": {
   "base_numbering": 1,
   "nav_menu": {},
   "number_sections": true,
   "sideBar": true,
   "skip_h1_title": false,
   "title_cell": "Table of Contents",
   "title_sidebar": "Contents",
   "toc_cell": false,
   "toc_position": {},
   "toc_section_display": true,
   "toc_window_display": false
  },
  "widgets": {
   "application/vnd.jupyter.widget-state+json": {
    "state": {},
    "version_major": 2,
    "version_minor": 0
   }
  }
 },
 "nbformat": 4,
 "nbformat_minor": 5
}
