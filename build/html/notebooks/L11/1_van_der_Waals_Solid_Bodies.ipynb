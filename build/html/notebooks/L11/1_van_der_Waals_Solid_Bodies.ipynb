{
 "cells": [
  {
   "cell_type": "markdown",
   "id": "0fa67cd0",
   "metadata": {},
   "source": [
    "# van der Waals Interaction"
   ]
  },
  {
   "cell_type": "markdown",
   "id": "c9144818",
   "metadata": {},
   "source": [
    "## Interaction Between Macroscopic Bodies"
   ]
  },
  {
   "cell_type": "markdown",
   "id": "f47532c9",
   "metadata": {},
   "source": [
    "The equations that we derived before are essentially valid between small objects at distances larger than their size. If objects become macroscopic, we have to consider the interaction of all components of a body with all components of the second body. To calculate those interactions, we will assume that all interactions are additive, while we know that this is not completely true for van der Waals forces. \n",
    "\n",
    "We will generalize also our law of interaction of the individual units to \n",
    "\n",
    "$$w(r)=-\\frac{C}{r^n}$$\n",
    "\n",
    "where $C$ is the interaction constant. $C$ comprises all additional constants in the interaction law. In the McLachlan case the constant $C$ would be given as\n",
    "\n",
    "\\begin{equation}\n",
    "w_{\\mathrm{vdW}}(r)=-\\underbrace{\\frac{6 k_{\\mathrm{B}} T}{\\left(4 \\pi \\epsilon_{0}\\right)^{2}} \\sum_{n=0}^{\\infty}{}^{\\prime} \\frac{\\alpha_{1}\\left(i v_{n}\\right) \\alpha_{2}\\left(i v_{n}\\right)}{\\epsilon_{3}^{2}\\left(i v_{n}\\right)}}_{C} \\frac{1}{r^{6}}\n",
    "\\end{equation}\n",
    "\n",
    "\n",
    "We start by evaluating the interaction of \n",
    "\n",
    "**a) a single molecule with a wall**\n"
   ]
  },
  {
   "cell_type": "markdown",
   "id": "c3a8cc28",
   "metadata": {},
   "source": [
    "![molecule_wall](img/molecule_body.png)\n",
    "\n",
    "\n",
    "According to the image above we see that the single molecule interacts with all molecules in a tiny volume element at a distance $r=\\sqrt{x^2+y^2}$ in the same way. This cylindral volume is given by\n",
    "\n",
    "$$2\\pi x dx dz$$\n",
    "\n",
    "and contains, based on the number density $\\rho$ of molecules in the wall and amount of $2\\pi x dx dz\\rho$ molecules. We then only have to sum up all contributions of shells with different $x$ and different $z$ which readily yields\n",
    "\n",
    "\n",
    "\\begin{eqnarray}\n",
    "w(D)&=&-2\\pi C\\rho\\int_z=D^{\\infty} dz \\int_{x=0}^{\\infty}\\frac{x dx}{(z^2+x^2)^(n/2)}=-\\frac{2\\pi C \\rho}{n-2}\\int_{D}^{\\infty}\\frac{dz}{z^{n-2}}\\\\\n",
    "&=&-\\frac{2\\pi C \\rho}{(n-2)(n-3)D^{n-3}}\\; \\forall\\; n>3\n",
    "\\end{eqnarray}\n",
    "\n",
    "Thus, if we would use the van der Waals interaction with $n=6$ we obtain\n",
    "\n",
    "\\begin{equation}\n",
    "w(D)=-\\frac{\\pi C \\rho}{6D^3}\n",
    "\\end{equation}\n",
    "\n",
    "which decays much weaker than the original power law of the van der Waals interaction law. This is a very general results, that the interactions law, which were obtained for point-like objects turn now into distance dependences that are more complex due to the extended shape of macroscopic bodies.\n"
   ]
  },
  {
   "cell_type": "markdown",
   "id": "2011016f-acbf-47fc-8b72-e2a98b8f46d4",
   "metadata": {},
   "source": [
    "**b) Interaction of a sphere with a wall**\n",
    "\n",
    "If we now turn now to a sphere in front of a wall, we have to add up all contributions of molecules in the sphere, which are at a certain distance $D$. Each of these molecules contributes according to a), so we have to add interactions of slices of the sphere, which are at a distance $D+z$.\n",
    "\n",
    "![Sphere Wall](img/sphere_wall.png)\n",
    "\n",
    "According to the figure, the radius of the slices is given by\n",
    "\n",
    "$$x^2=(2R-z)z$$\n",
    "\n",
    "which gives a volume of the slice, which is $\\pi x^2 dz=\\pi (2R-z)z dz$ that finally gives the number of molecules $\\rho \\pi (2R-z)dz$ with $\\rho$ being the number density of wall and sphere. Summing now up over all slices at a distance $z$ results in\n",
    "\n",
    "\\begin{equation}\n",
    "w(D)=-\\frac{2\\pi^2 C \\rho^2}{(n-2)(n-3)}\\int_0^{2R}\\frac{(2R-z)zdz}{(D+z)^{n-3}}\n",
    "\\end{equation}\n",
    "\n",
    "This results can be considered in different limits. \n",
    "\n",
    "For $D\\ll R$ we have mainly contributions from $z\\approx D$, which yield then \n",
    "\n",
    "\\begin{equation}\n",
    "w(D)=-\\frac{4\\pi^2 C \\rho^2 R}{(n-2)(n-3)(n-4)(n-5)D^{n-5}}\n",
    "\\end{equation}\n",
    "\n",
    "which would give for van der Waals interactions\n",
    "\n",
    "\\begin{equation}\n",
    "w(D)=-\\frac{\\pi^2 C \\rho^2 R}{6D}\n",
    "\\end{equation}\n",
    "\n",
    "which reveals a much weaker distance dependence than the original formula for the van der Waals interaction. This is again a general result for the interaction for the interaction of bodies at small distances.\n",
    "\n",
    "If the seperation of sphere and wall is much larger than the sphere itself $D\\gg R$, we can approximate the above integral with \n",
    "\n",
    "\\begin{equation}\n",
    "w(D)=-\\frac{2\\pi C \\rho (4\\pi R^3 \\rho/3 )}{(n-2)(n-3)D^{n-3}}\n",
    "\\end{equation}"
   ]
  },
  {
   "cell_type": "markdown",
   "id": "331bb6a3-eb17-4ec7-ae27-f9bafbb46dfd",
   "metadata": {},
   "source": [
    "## Hamaker Constant"
   ]
  },
  {
   "cell_type": "markdown",
   "id": "ca003dab-e4d2-41f5-97cd-0bd1c60b0c2c",
   "metadata": {},
   "source": [
    "Independent of the distance law that is resulting from the shape of the solid bodies that are interacting, there are some parameters, which persist in all of the equations and are related to the materials.\n",
    "\n",
    "This factor is \n",
    "\n",
    "$$\n",
    "A=\\pi^2C \\rho_{1}\\rho_{2}\n",
    "$$\n",
    "\n",
    "and is called the **Hamaker Constant**. It comprises the interaction constant $C$ and the number density $\\rho$, which is the same for the cases studied above where $\\rho^2$ appears. If the number densities of the interacting bodies are different we have to consider $\\rho_1$ and $\\rho_2$, of course. "
   ]
  },
  {
   "cell_type": "markdown",
   "id": "da9cf9da-3e9e-4452-9624-9bbee6f42e99",
   "metadata": {},
   "source": [
    "Due to the fact that the Hamaker constant is related to the interaction constant $C$, which contains the according to the McLachlan theory the sum over the polarizabilities of the microscopic units it is strong where the polarizabilities and density are large as for example in diamond or metals. Yet we have to establish a description that is related to the continuum quantities dielectric function or refractive index, which is the Lifshitz theory following in the next lecture. "
   ]
  },
  {
   "cell_type": "markdown",
   "id": "fe6485bc-c425-4ba0-b08a-a858709fe20f",
   "metadata": {},
   "source": [
    "![molecule_wall](img/hamaker_constants.png)"
   ]
  },
  {
   "cell_type": "markdown",
   "id": "1790c86a-ddaa-4801-aac1-0813d92cefbb",
   "metadata": {},
   "source": [
    "We can now use the Hamaker constant to simplify the expressions of the interactions of bodies:\n",
    "\n",
    "![molecule_wall](img/interaction_table.png)"
   ]
  },
  {
   "cell_type": "markdown",
   "id": "b3d1d2c7-d65a-47c4-a127-d16ab97106c4",
   "metadata": {},
   "source": [
    "To understand the meaning of the Hamaker constant a bit better we can have a look at the following example.\n",
    "We take a body made out of certain units that have a size $D_0$ and form a lattice. If we split an infinite body of made out of these units into two half spaces, we create two interfaces at a distance $D$. \n",
    "\n",
    "![molecule_wall](img/surfaces.png)\n",
    "\n",
    "The difference in interaction energy per unit are according to the above table is then given by\n",
    "\n",
    "$$\n",
    "w(D)=-\\frac{A}{12\\pi}\\left ( \\frac{1}{D_{0}^2}-\\frac{1}{D^2} \\right)\n",
    "$$\n",
    "\n",
    "If take the limit of $D\\rightarrow \\infty$, we obtain\n",
    "\n",
    "$$\n",
    "\\frac{A}{12\\pi D_{0}^2}=2\\gamma \n",
    "$$\n",
    "\n",
    "The energy per unit surface area is a surface energy and actually the energy to create two surfaces. It therefore corresponds to the interfacial energy of the material $\\gamma$ multiplied by two. So the Hamaker constant is related to the interfacial energies.\n",
    "\n",
    "While the above equations are derived for two objects of the same material with the same Hamaker constant, there is also a rule for the interaction of two different materials. If we have two bodies of material $L$ and material $S$ interacting with each other, then the Hamaker constants can be combined by\n",
    "\n",
    "$$\n",
    "A_{SL}=\\sqrt{A_{S}A_{L}}\n",
    "$$\n"
   ]
  }
 ],
 "metadata": {
  "kernelspec": {
   "display_name": "Python 3 (ipykernel)",
   "language": "python",
   "name": "python3"
  },
  "language_info": {
   "codemirror_mode": {
    "name": "ipython",
    "version": 3
   },
   "file_extension": ".py",
   "mimetype": "text/x-python",
   "name": "python",
   "nbconvert_exporter": "python",
   "pygments_lexer": "ipython3",
   "version": "3.8.16"
  },
  "toc": {
   "base_numbering": 1,
   "nav_menu": {},
   "number_sections": true,
   "sideBar": true,
   "skip_h1_title": false,
   "title_cell": "Table of Contents",
   "title_sidebar": "Contents",
   "toc_cell": false,
   "toc_position": {},
   "toc_section_display": true,
   "toc_window_display": false
  },
  "widgets": {
   "application/vnd.jupyter.widget-state+json": {
    "state": {},
    "version_major": 2,
    "version_minor": 0
   }
  }
 },
 "nbformat": 4,
 "nbformat_minor": 5
}
