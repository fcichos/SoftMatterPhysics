{
 "cells": [
  {
   "cell_type": "markdown",
   "id": "19ce2e3d",
   "metadata": {},
   "source": [
    "# Viscoelasticity\n",
    "\n",
    "[Download Lecture as PDF](1_Viscoelasticity.pdf)"
   ]
  },
  {
   "cell_type": "code",
   "execution_count": null,
   "id": "166775b7",
   "metadata": {
    "nbsphinx": "hidden",
    "tags": []
   },
   "outputs": [],
   "source": [
    "import numpy as np\n",
    "import matplotlib.pyplot as plt\n",
    "from numpy.linalg import norm\n",
    "from scipy.constants import c,epsilon_0,e,physical_constants\n",
    "import json\n",
    "\n",
    "%config InlineBackend.figure_format = 'retina' \n",
    "\n",
    "with open('style.json', 'r') as fp:q\n",
    "    style = json.load(fp)\n",
    "    \n",
    "plt.rcParams.update(style) "
   ]
  },
  {
   "cell_type": "markdown",
   "id": "65ca0a61",
   "metadata": {},
   "source": [
    "## Maxwell Model "
   ]
  },
  {
   "cell_type": "markdown",
   "id": "9fd4e3ee",
   "metadata": {},
   "source": [
    "![Maxwell](img/maxwell.png)\n",
    "\n",
    "Combing back to the Maxwell model, we have a serial combination of viscous and elastic element. Thus both elements feel the same stress $\\sigma$ and the deformation is the sum of the elastic and viscous deformation, i.e. $\\gamma=\\gamma_e+\\gamma_v$.\n",
    "\n",
    "We therefore find \n",
    "\n",
    "$$\n",
    "\\sigma=G_M\\gamma_e= \\eta_M\\frac{d\\gamma}{dt}\n",
    "$$\n",
    "\n",
    "or \n",
    "\n",
    "$$\n",
    "\\gamma_e=\\frac{\\eta_M}{G_M}\\frac{d\\gamma_v}{dt}\n",
    "$$\n",
    "\n",
    "where $\\eta_M/G_M$ defines a timescale for the viscous relaxation. Such a timescale is always present in viscoelastic materials. In most materials even multiple timescales are relevant.\n",
    "\n",
    "In the following sections we explore the response of a viscoelastic material to different pertubations. They can be either formed by a **step strain**, a **steady shear** or a **step stress or creep**."
   ]
  },
  {
   "cell_type": "markdown",
   "id": "9c2c9afd",
   "metadata": {},
   "source": [
    "## Stress Relaxation after Step Strain\n",
    "\n",
    "Here we impose a step strain $\\gamma$ at a time $t=0$, such that the strain is constant for $t>0$. Depending on the material we will get a different response. If we have for example an\n",
    "\n",
    "- **elastic solid** will repond with a jump in the stress according to $G\\gamma$ and the stress will stay constant as long as the strain is constant\n",
    "- **Newtonian liquid** will respond with a stress spike that instantaneously decays to zero \n",
    "- **viscoelastic system** will respond with some time dependent stress $\\sigma(t)$\n",
    "\n",
    "Due to the time dependence of the stress $\\sigma(t)$ for a viscoelastic material we can generalize Hooke's law to\n",
    "\n",
    "$$\n",
    "G(t)=\\frac{\\sigma(t)}{\\gamma}\n",
    "$$\n",
    "\n",
    "The plot shows the reponse of either a viscoelastic liquid or a viscoelastic solid. The latter comprise a general elastic part, which lets the stress converge for infinity time to some constant value \n",
    "\n",
    "$$\n",
    "G_{\\rm eq}=\\lim_{t\\rightarrow \\infty} G(t)\n",
    "$$\n",
    "\n",
    "\n",
    "For viscoelestic liquids this residual stress is absent and the stress decays to zero."
   ]
  },
  {
   "cell_type": "code",
   "execution_count": 82,
   "id": "dc08ff27-1c97-48ef-995f-9cd1c6bb09f0",
   "metadata": {
    "nbsphinx": "hidden",
    "tags": []
   },
   "outputs": [],
   "source": [
    "fig=plt.figure()\n",
    "plt.ion()\n",
    "t=np.linspace(0,10,100)\n",
    "plt.plot(t,np.exp(-t),label=\"ve-liquid\")\n",
    "plt.plot(t,0.8*np.exp(-t)+0.2,label=\"ve-solid\")\n",
    "plt.xlabel(\"time t\")\n",
    "plt.ylabel(r\"stress $\\sigma(t)$\");plt.legend()\n",
    "plt.tight_layout()\n",
    "plt.savefig(\"img/tmp.pdf\")\n",
    "plt.close(fig)"
   ]
  },
  {
   "cell_type": "markdown",
   "id": "5bd04d33-b9a4-4c4f-9784-252bdff4298a",
   "metadata": {},
   "source": [
    "![TMP](img/tmp.pdf)"
   ]
  },
  {
   "cell_type": "markdown",
   "id": "61be9a5d-1337-40c8-81b9-74ae713738c8",
   "metadata": {},
   "source": [
    "The Maxwell model, which is represented by a viscous dashpot element and an elastic spring represents such a viscoelastic liquid. The elastic strain thereby is\n",
    "\n",
    "$$\n",
    "\\gamma_e=\\frac{\\eta_M}{G_M}\\frac{d\\gamma_v}{dt}=\\tau_M\\frac{d\\gamma_v}{dt}\n",
    "$$\n",
    "\n",
    "Since the two elements are in series the elastic strain is also expressed by\n",
    "\n",
    "$$\n",
    "\\gamma_e=\\gamma-\\gamma_v(t)\n",
    "$$\n",
    "\n",
    "Separation off variables leads to\n",
    "\n",
    "$$\n",
    "\\frac{d\\gamma_v(t)}{\\gamma-\\gamma_v(t)}=\\frac{dt}{\\tau_M}\n",
    "$$\n",
    "\n",
    "from which we obtain\n",
    "\n",
    "$$\n",
    "\\ln(\\gamma-\\gamma_v(t))=\\frac{-t}{\\tau_M}+C\n",
    "$$\n",
    "\n",
    "with $C=\\ln(\\gamma)$ based on the initial condition that $\\gamma(t=0)=\\gamma$. As a result we obtain \n",
    "\n",
    "$$\n",
    "\\gamma_e(t)=\\gamma-\\gamma_v(t)=\\gamma \\exp\\left (- \\frac{t}{\\tau_M} \\right )\n",
    "$$\n",
    "\n",
    "and for the stress\n",
    "\n",
    "$$\n",
    "\\sigma(t)=G_M\\gamma_e(t)=G_M \\gamma \\exp \\left ( -\\frac{t}{\\tau_M}\\right )\n",
    "$$\n",
    "\n",
    "Thus in the Maxwell model, the stress relaxation has a simple exponential decay with the characteristic time constant $\\tau_M$. Such a characteristic time constant is characteristic for all viscoelastic materials. Many materials, e.g., polymers have multiple relaxation modes, each with its own time constant $\\tau$ as we will see later.It turns out, that any stress relaxation modulus can be described by a series of Maxwell elements. "
   ]
  },
  {
   "cell_type": "markdown",
   "id": "cabf3760",
   "metadata": {},
   "source": [
    "### Boltzmann Superposition\n",
    "\n",
    "The mechanical response of all materials has a region of linear response, where the relaxation modulus is independent of the strain. A manifestation of this linear response is the Boltzmann superposition principle. \n",
    "\n",
    "Stress from any combination of small step strains is simply the linear combination of stresses resulting from each individual step.\n",
    "\n",
    "If this individual strain step $\\delta \\gamma$ is applied at $t_i$, then the stress at a time $t$ is given by\n",
    "\n",
    "$$\n",
    "\\sigma(t)=\\sum_{i}G(t-t_i)\\delta \\gamma_i\n",
    "$$\n",
    "\n",
    "This means that the stress of each individual step is independent of the other steps and the system remembers the deformations that were imposed earlier and continue to relaxa from earlier deformations as new ones are applied.\n",
    "\n",
    "The stress relaxation modulus tells then how much stress remains at $t$ past each deformation $\\delta \\gamma_i$ through $t-t_i$. With\n",
    "\n",
    "$$\n",
    "\\delta \\gamma_i=\\dot{\\gamma}_i\\delta t_i\n",
    "$$\n",
    "\n",
    "we obtain\n",
    "\n",
    "$$\n",
    "\\sigma(t)=\\sum_i G(t-t_i)\\dot{\\gamma}_i\\delta t_i\n",
    "$$\n",
    "\n",
    "or from a smooth history of strains\n",
    "\n",
    "$$\n",
    "\\sigma(t)=\\int_{-\\infty}^{t}G(t-t^{\\prime})\\dot{\\gamma}(t^{\\prime})dt^{\\prime}\n",
    "$$\n",
    "\n",
    "which tells you that the stress in any material is the result of all past deformations, which is expressed by this convolution. The momory of each past deformation only decays as the relaxation modulus decay ovet the elapsed time $t-t^{\\prime}$"
   ]
  },
  {
   "cell_type": "markdown",
   "id": "81dfab75",
   "metadata": {},
   "source": [
    "## Steady Shear\n",
    "\n",
    "We now switch to a different mode of mechanical perturbation of a material, which is the steady shear deformation. There we already considered the flow profile in the low Reynolds number section.\n",
    "\n",
    "![Flow](img/shear.png)\n",
    "\n",
    "\n",
    "Here, the shear rate is given by the speed of the top surface $\\dot{\\gamma}=|\\vec{v}|/h$, where $h$ is the height of the film. According to our previous considerations the stress follows from \n",
    "\n",
    "\\begin{eqnarray}\n",
    "\\sigma(t)&=&\\dot{\\gamma}\\int_{-\\infty}^{t}G(t-t^{\\prime})dt^{\\prime}\\\\\n",
    "&=& \\dot{\\gamma}\\int_0^{\\infty}G(s)dt\n",
    "\\end{eqnarray}\n",
    "\n",
    "with $s=t-t^{\\prime}$. With Newtons law of viscosity follows that\n",
    "\n",
    "$$\n",
    "\\eta=\\int_{0}^{\\infty}G(t)dt\n",
    "$$\n",
    "\n",
    "Using the Maxwell model this means that the viscosity is \n",
    "\n",
    "$$\n",
    "\\eta=G\\int_{0}^{\\infty}\\exp\\left (-\\frac{t}{\\tau}\\right )dt=G\\tau=\\eta_M\n",
    "$$\n",
    "\n",
    "which is also the result for a viscoelastic liquid. If the modulus $G$ is not constant, the viscosity can be also approximated by $\\eta=G(\\tau)\\tau$.\n",
    "\n",
    "For a viscoelastic solid, the moduls $G(t)$ does not decay to zero in time, but stays constant for long times. As a result the integral will diverge, as solids have an infinite viscosity. \n",
    "\n",
    "If the shear rate becomes very large, the linear response approximation we have asummed for the Boltzmann superposition will not hold and we will observe non-linear effects. This leads for example to a **shear thinning** in polymeric liquids but also to a **shear thickening** for other materials such as the corn starch.\n",
    "\n",
    "In these nonlinear regions, we can still define an apparent viscosity as the ration of shear stress divided by shear strain. The viscosity we commonly refer to is, however, the viscosity measured in the limit of $\\gamma\\ll \\tau^{-1}$.\n",
    "\n",
    "\n",
    "Note that all liquids display viscoelasticity even though the range where the viscosity is independent of the shear rate is very wide. For water, for example, the molecular relaxations are fast and the viscoelastic regimes starts at shear rates of about $10^{10}\\, s^{-1}$"
   ]
  },
  {
   "cell_type": "markdown",
   "id": "cf0c2a20",
   "metadata": {},
   "source": [
    "## Creep and Creep Recovery\n",
    "\n",
    "\n",
    "### Creep\n",
    "Another mechanical perturbation is the step stress that can be applied to watch the strain relax. This is called **creep** and switching of a constant stress is called **creep recovery**. For the study of creep relaxation processes we define a new quantity, which is the inverse of the shear modulus. It is called the **shear creep compliance**\n",
    "\n",
    "\\begin{equation}\n",
    "J(t)\\equiv \\frac{\\gamma(t)}{\\sigma} \\tag{Creep Compliance}\n",
    "\\end{equation}\n",
    "\n",
    "The relation of modulus and compliance is much like the relation of resistivity and conductivity. We can use again the Maxwell model to gain some insight. There the elastic element responds with an instantaneous strain\n",
    "\n",
    "$$\n",
    "\\gamma_e=\\frac{\\sigma}{G_M}\n",
    "$$\n",
    "\n",
    "For the viscous element on the other hand we have\n",
    "\n",
    "$$\n",
    "\\frac{d\\gamma_v(t)}{dt}=\\frac{\\sigma}{\\eta_M}\n",
    "$$\n",
    "\n",
    "which results in a linear growth of the viscous strain with time\n",
    "\n",
    "$$\n",
    "\\gamma_v(t)=\\frac{\\sigma}{\\eta_M}t\n",
    "$$\n",
    "\n",
    "\n",
    "The creep compliance in the Maxwell model is therefore\n",
    "\n",
    "$$\n",
    "J(t)=\\frac{\\gamma_e+\\gamma_v(t)}{\\sigma}=\\frac{1}{G_M}+\\frac{t}{\\eta_M}\n",
    "$$\n",
    "\n",
    "which is overall linear in time. At time $t=0$, the compliance is given by the elastic part $1/G_M$, while the slope at long times is given by $1/\\eta$. For viscoelastic liquids we have in general \n",
    "\n",
    "$$\n",
    "J(t)=J_{eq}+\\frac{t}{\\eta}\n",
    "$$\n",
    "\n",
    "where $J_{eq}$ corresponds to the energy stored in the elastic part of the liquid, but the compliance grows linearly with time. For a viscoelastic solid we know, however, that\n",
    "\n",
    "$$\n",
    "J_{eq}=\\lim_{t\\rightarrow \\infty}=\\frac{1}{\\sigma}\\lim_{t\\rightarrow \\infty}\\gamma(t)=\\frac{1}{G_{eq}}\n",
    "$$\n",
    "\n",
    "We can therefore use a different model to better describe a viscoelastic solid. This is done by the Kelvin Voigt model, where viscous and elastic part are connected in parallel. \n",
    "\n",
    "![Kelvin Voigt](img/kelvinvoigt.png)\n",
    "\n",
    "In this case the stresses add up\n",
    "\n",
    "$$\n",
    "\\sigma=\\sigma_e(t)+\\sigma_{v}(t)=G\\gamma(t)+\\eta \\frac{d\\gamma}{dt}\n",
    "$$\n",
    "\n",
    "Separation of variables yields\n",
    "\n",
    "\n",
    "$$\n",
    "\\int_0^{\\gamma}\\frac{d\\gamma(t)}{\\frac{\\sigma}{G}-\\gamma(t)}=\\frac{G}{\\eta}\\int_0^{t}dt\n",
    "$$\n",
    "\n",
    "which results in the strain\n",
    "\n",
    "$$\n",
    "\\gamma(t)=\\frac{\\sigma}{G}(1-\\exp(-t/(\\eta/G))\n",
    "$$\n",
    "\n",
    "which gives for the creep compliance\n",
    "\n",
    "$$\n",
    "J(t)=\\frac{\\gamma(t)}{\\sigma}=\\frac{1}{G}\\left (1-\\exp(-t/\\tau)\\right)\n",
    "$$\n",
    "\n",
    "with $J_{eq}=\\lim_{t\\rightarrow \\infty}J(t)$."
   ]
  },
  {
   "cell_type": "code",
   "execution_count": 83,
   "id": "db13ddc0-c5a9-46e7-8cc5-98ef641a5e9c",
   "metadata": {
    "nbsphinx": "hidden",
    "tags": []
   },
   "outputs": [],
   "source": [
    "fig=plt.figure()\n",
    "plt.ion()\n",
    "t=np.linspace(0,10,100)\n",
    "plt.plot(t,0.2*(1-np.exp(-t)),label=\"ve-solid\")\n",
    "plt.plot(t,0.2*(1-np.exp(-t))+0.08*t,label=\"ve-liquid\")\n",
    "plt.ylim(0,1)\n",
    "plt.xlabel(\"time t\")\n",
    "plt.ylabel(r\"$J(t)$\")\n",
    "plt.legend()\n",
    "plt.tight_layout()\n",
    "plt.savefig(\"img/tmp1.pdf\")\n",
    "plt.close(fig)"
   ]
  },
  {
   "cell_type": "markdown",
   "id": "fbe81b26-0151-40d3-989d-013db3332535",
   "metadata": {},
   "source": [
    "![test](img/tmp1.pdf)"
   ]
  },
  {
   "cell_type": "markdown",
   "id": "b6e4ee01-4967-4821-9703-2bbab3cf554e",
   "metadata": {},
   "source": [
    "### Creep Recovery\n",
    "\n",
    "When switching of the stress, the viscoelastic material recovers and we get an elastic recoil. The reocovery strain is defined as\n",
    "\n",
    "$$\n",
    "\\gamma_R =\\gamma_0-\\gamma(t)\n",
    "$$\n",
    "\n",
    "where the switch off happens at $t=0$. The corresponding recovery compliance is then\n",
    "\n",
    "$$\n",
    "J_R(t)\\equiv\\frac{\\gamma_R(t)}{\\sigma}\n",
    "$$\n",
    "\n",
    "which directly gives\n",
    "\n",
    "$$\n",
    "J_R(t)=J(t)-\\frac{t}{\\eta}\n",
    "$$\n",
    "\n",
    "for a viscoelastic liquid. For a solid, the viscosity is infinite an we obtain\n",
    "\n",
    "$$\n",
    "J_R(t)=J(t)\n",
    "$$\n",
    "\n",
    "$$\n",
    "\\lim_{t\\rightarrow\\infty} J_R(t)=\\lim_{t\\rightarrow \\infty}\\left [ J(t)-\\frac{t}{\\eta}\\right ]=J_{eq}\n",
    "$$"
   ]
  },
  {
   "cell_type": "markdown",
   "id": "748234ad",
   "metadata": {},
   "source": [
    "## Oscillatory Shear"
   ]
  },
  {
   "cell_type": "markdown",
   "id": "08e2838c-f4fe-4e60-9d5f-ac85980315fa",
   "metadata": {},
   "source": [
    "All the previous consideration were done in the time domain with step-like perturbations. The step-like perturbation responses have an analog in the frequency domain, which is commonly measured by a type of \"spectroscopy\", which is termed **rheology**.\n",
    "In rheology you apply an oscillating strain at a frequency $\\omega$, which can be written in the complex form as\n",
    "\n",
    "$$\n",
    "\\gamma(t)=\\gamma_0 \\exp(i\\omega t)\n",
    "$$\n",
    "\n",
    "For a pure eslastic solid, the response in instantaneous an the stress reads:\n",
    "\n",
    "$$\n",
    "\\sigma(t)=G \\gamma(t)=G \\gamma_{0} e^{i \\omega t}\n",
    "$$\n",
    "\n",
    "The stress is osciallting in phase with the strain. For a viscous liquid, however, the stress is related to the strain rate and thus\n",
    "\n",
    "$$\n",
    "\\sigma(t)=\\eta \\frac{d \\gamma(t)}{d t}=i \\omega \\eta \\gamma_{0} e^{i \\omega t}\n",
    "$$\n",
    "\n",
    "we obtain an out of phase signal, a purely imaginary response, of the stress, which trails the train as shown in the Figure below."
   ]
  },
  {
   "cell_type": "code",
   "execution_count": 22,
   "id": "1ddab0f7-adb0-4e2d-91dd-91fd638c53ad",
   "metadata": {
    "nbsphinx": "hidden",
    "tags": []
   },
   "outputs": [],
   "source": [
    "def gamma(t,omega,gamma0):\n",
    "    return(gamma0*np.exp(1j*omega*t))"
   ]
  },
  {
   "cell_type": "code",
   "execution_count": 84,
   "id": "b20bca53-fd56-4c6a-b410-2eeb4bd99818",
   "metadata": {
    "nbsphinx": "hidden",
    "tags": []
   },
   "outputs": [],
   "source": [
    "t=np.linspace(0,20,100)\n",
    "g=gamma(t,1,1);G=1.5;eta=1;omega=1\n",
    "fig=plt.figure(figsize=(10,4))\n",
    "plt.ion()\n",
    "plt.subplot(1,2,1)\n",
    "plt.plot(t,np.real(g),'k-',label=\"strain\")\n",
    "plt.plot(t,np.real(g*G),'k--',label=\"stress\")\n",
    "plt.xlabel(\"time t\")\n",
    "plt.ylabel(r\"stress $\\sigma$,strain $\\gamma$\")\n",
    "plt.legend()\n",
    "plt.ylim(-2,2)\n",
    "\n",
    "plt.subplot(1,2,2)\n",
    "plt.plot(t,np.real(g),'k-',label=\"strain\")\n",
    "plt.plot(t,np.real(g*1j*omega*eta),'k--',label=\"stress\")\n",
    "plt.xlabel(\"time t\")\n",
    "plt.ylabel(r\"stress $\\sigma$,strain $\\gamma$\")\n",
    "plt.legend()\n",
    "plt.ylim(-2,2)\n",
    "plt.tight_layout()\n",
    "plt.savefig(\"img/tmp2.pdf\")\n",
    "plt.close(fig)"
   ]
  },
  {
   "cell_type": "markdown",
   "id": "0c8c1a51-7291-476e-861b-7c815a24f665",
   "metadata": {},
   "source": [
    "![tmp](img/tmp2.pdf)"
   ]
  },
  {
   "cell_type": "markdown",
   "id": "b07871e5-25e7-434f-a775-dd15736df241",
   "metadata": {},
   "source": [
    "For a viscoelastic material, we have now both responses, which we can summarize in a complex modulus $G$. The real part is called the **storage modulus** and the imaginary part is called the **loss modulus**\n",
    "\n",
    "$$\n",
    "G(\\omega)=G^{\\prime}(\\omega)+i G^{\\prime\\prime}(\\omega)\n",
    "$$\n",
    "\n",
    "Therefore, the time dependent stress is also a complex quantity and given by\n",
    "\n",
    "$$\n",
    "\\sigma(t)=\\underbrace{G \\gamma_{0}}_{\\sigma_{0}} e^{i \\omega t}=\\underbrace{G^{\\prime} \\gamma_{0}}_{\\operatorname{Re} \\sigma_{0}} e^{i \\omega t}+i \\underbrace{G^{\\prime \\prime} \\gamma_{0}}_{\\operatorname{Im} \\sigma_{0}} e^{i \\omega t}\n",
    "$$\n",
    "\n",
    "The phase angle $\\delta$ is given by the ratio of imaginary and real part \n",
    "\n",
    "$$\n",
    "\\tan \\delta=\\frac{\\operatorname{Im} G}{\\operatorname{Re} G}=\\frac{G^{\\prime \\prime}}{G^{\\prime}}\n",
    "$$\n",
    "\n",
    "and the tangens of the phase angle is called the **loss tangent**.\n",
    "\n",
    "$$\n",
    "P=\\frac{d W}{d t}=\\frac{F d x}{d t}=\\underbrace{\\sigma A}_{F} \\frac{L d \\gamma}{d t}\n",
    "$$\n",
    "\n",
    "$$\n",
    "\\frac{P}{V}=\\sigma\\left(\\frac{d \\gamma}{d t}\\right)\n",
    "$$\n",
    "\n",
    "$$\n",
    "\\frac{P}{V}=\\frac{1}{2} \\sigma_{0}\\left(\\frac{d \\gamma}{d t}\\right)_{0}^{*} = \\frac{1}{2}\\left(G^{\\prime} \\gamma_{0}+i G^{\\prime \\prime} \\gamma_{0}\\right)\\left(-i \\omega \\gamma_{0}\\right) =\\frac{1}{2}(\\underbrace{G^{\\prime \\prime}}_{\\begin{array}{c}\n",
    "\\text { active } \\\\\n",
    "\\text { power }\n",
    "\\end{array}}-\\underbrace{i G^{\\prime}}_{\\text {reactive }}) \\gamma_{0}^{2} \\omega\n",
    "$$"
   ]
  },
  {
   "cell_type": "markdown",
   "id": "f0fa98ea-f0d8-4be7-9b66-cc98b4ad7e6e",
   "metadata": {},
   "source": [
    "The last part of the equation shows, that the imaginary part is responsible for the dissipation, while the real part adds some pseudo power much like the ac resistance in electronic circuitry."
   ]
  },
  {
   "cell_type": "markdown",
   "id": "f8640aaa-77c6-4ae0-a675-201bcca45bb0",
   "metadata": {},
   "source": [
    "### Complex shear modulus of the Maxwell model\n",
    "\n",
    "\n",
    "The elastic part in the Maxwell model is again given by\n",
    "\n",
    "$$\n",
    "\\gamma_e=\\frac{\\sigma}{G}\n",
    "$$\n",
    "\n",
    "while the viscous part is determined by the following differential equation\n",
    "\n",
    "$$\n",
    "\\frac{d \\gamma_{v}}{d t}=\\frac{\\sigma}{\\eta}=\\frac{\\sigma_{0}}{\\eta} e^{i \\omega t}\n",
    "$$\n",
    "\n",
    "which yields\n",
    "\n",
    "$$\n",
    "\\gamma_{v}=\\frac{1}{i} \\frac{\\sigma_{0}}{\\omega \\eta} e^{i \\omega t}=-i \\frac{\\sigma}{\\omega \\eta}\n",
    "$$\n",
    "\n",
    "or\n",
    "\n",
    "$$\n",
    "\\sigma=i \\omega \\eta \\gamma_{v}\n",
    "$$\n",
    "\n",
    "Thus inserting both in the total strain\n",
    "\n",
    "$$\n",
    "\\underbrace{\\gamma_{0} e^{i \\omega t}}_{\\gamma}=\\underbrace{\\frac{\\sigma_{0}}{G} e^{i \\omega t}}_{\\gamma_e}-i\\underbrace{ \\frac{\\sigma_{0}}{\\omega \\eta} e^{i \\omega t}}_{\\gamma_v}\n",
    "$$\n",
    "\n",
    "from which we can read the complex modulus\n",
    "\n",
    "\\begin{eqnarray}\n",
    "G^{*}&=&\\frac{\\sigma_{0}}{\\gamma_{0}}=\\frac{1}{1 / G-i /(\\omega \\eta)}=\\frac{\\omega \\eta}{\\omega \\eta / G-i}=\\frac{\\omega \\eta(\\omega \\eta / G+i)}{(\\omega \\underbrace{\\eta / G}_{\\tau})^{2}+1}\\\\\n",
    "&=&\\underbrace{G \\frac{1}{1+1 /(\\omega \\tau)^{2}}}_{G^{\\prime}}+i \\underbrace{G \\frac{\\omega \\tau}{(\\omega \\tau)^{2}+1}}_{G^{\\prime \\prime}}\n",
    "\\end{eqnarray}\n",
    "\n",
    "The plot below shows the frequency dependence of the real and imaginary part of the modulus for the Maxwell model. The imaginary part has the shape of a Lorentzian, which is corresponding to the Fourier transform of an exponential in the time domain. The wings of $G^{\\prime \\prime}$ increase or decay with $\\omega$, while the real part $G^{\\prime}$ shows a steeper increase with $\\omega^2$ until it saturates. The saturation and the peak occur at the characteristic timescale $\\tau=\\eta/G$, indicated by the vertical dahsed line."
   ]
  },
  {
   "cell_type": "code",
   "execution_count": 86,
   "id": "3a427190-dc68-4512-a7f3-d7594f0fb9d1",
   "metadata": {
    "nbsphinx": "hidden",
    "tags": []
   },
   "outputs": [],
   "source": [
    "def G(omega,eta,Gm):\n",
    "    return(1/(1/Gm-1j/(omega*eta)))"
   ]
  },
  {
   "cell_type": "code",
   "execution_count": 87,
   "id": "4cac3e03-809d-426f-8da7-985d93559d71",
   "metadata": {
    "nbsphinx": "hidden",
    "tags": []
   },
   "outputs": [],
   "source": [
    "om=np.linspace(0.01,100,1000)\n",
    "fig=plt.figure()\n",
    "plt.ion()\n",
    "plt.loglog(om,np.real(G(om,1,1)),lw=2,label=r\"$G^{\\prime}$\")\n",
    "plt.loglog(om,np.imag(G(om,1,1)),lw=2,label=r\"$G^{\\prime\\prime}$\")\n",
    "plt.axvline(x=1,color='k',ls='--')\n",
    "plt.xlabel(r\"$\\omega$\")\n",
    "plt.ylabel(r\"$G^{\\prime}$,$G^{\\prime\\prime}$\")\n",
    "plt.legend()\n",
    "plt.tight_layout()\n",
    "plt.savefig(\"img/tmp3.pdf\")\n",
    "plt.close(fig)"
   ]
  },
  {
   "cell_type": "markdown",
   "id": "61e6fd69-3a1d-4d8e-938a-bbd54bc7e4ba",
   "metadata": {},
   "source": [
    "![tmp3](img/tmp3.pdf)"
   ]
  },
  {
   "cell_type": "markdown",
   "id": "efa83406-866d-419e-97c1-1212ffb880df",
   "metadata": {},
   "source": [
    "### Complex shear modulus of the Kelvin-Voigt model"
   ]
  },
  {
   "cell_type": "markdown",
   "id": "0d7c2537-3423-4d00-9238-8970b5697061",
   "metadata": {},
   "source": [
    "\n",
    "\n",
    "$$\n",
    "\\underbrace{\\sigma_{0} e^{i \\omega t}}_{\\sigma}=\\sigma_{e}+\\sigma_{v}=G \\gamma+\\eta \\frac{d \\gamma}{d t}=G \\gamma_{0} e^{i \\omega t}+i \\omega \\eta \\gamma_{0} e^{i \\omega t}\n",
    "$$\n",
    "\n",
    "$$\n",
    "G^{*}=\\frac{\\sigma_{0}}{\\gamma_{0}}=G+i \\omega \\eta=\\underbrace{G}_{G^{\\prime}}+i \\underbrace{G \\omega \\tau}_{G^{\\prime \\prime}} \\tag{Complex modulus Kelvin-Voigt model}\n",
    "$$"
   ]
  }
 ],
 "metadata": {
  "kernelspec": {
   "display_name": "Python 3 (ipykernel)",
   "language": "python",
   "name": "python3"
  },
  "language_info": {
   "codemirror_mode": {
    "name": "ipython",
    "version": 3
   },
   "file_extension": ".py",
   "mimetype": "text/x-python",
   "name": "python",
   "nbconvert_exporter": "python",
   "pygments_lexer": "ipython3",
   "version": "3.8.16"
  },
  "toc": {
   "base_numbering": 1,
   "nav_menu": {},
   "number_sections": true,
   "sideBar": true,
   "skip_h1_title": false,
   "title_cell": "Table of Contents",
   "title_sidebar": "Contents",
   "toc_cell": false,
   "toc_position": {},
   "toc_section_display": true,
   "toc_window_display": true
  },
  "widgets": {
   "application/vnd.jupyter.widget-state+json": {
    "state": {},
    "version_major": 2,
    "version_minor": 0
   }
  }
 },
 "nbformat": 4,
 "nbformat_minor": 5
}
