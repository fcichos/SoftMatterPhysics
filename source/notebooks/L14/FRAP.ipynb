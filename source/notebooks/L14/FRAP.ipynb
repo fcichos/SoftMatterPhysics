{
 "cells": [
  {
   "cell_type": "code",
   "execution_count": null,
   "id": "e1ffd2f9-4c2b-4be9-bba6-988b3a83d051",
   "metadata": {},
   "outputs": [],
   "source": [
    "import numpy as np\n",
    "import matplotlib.pyplot as plt\n",
    "import scipy.special as sp\n",
    "from ipywidgets import interact\n",
    "\n",
    "# Define the function n(x, t)\n",
    "def n_solution(x, a, D, t, t0):\n",
    "    term1 = sp.erf((x + a) / (2 * np.sqrt(D * (t - t0))))\n",
    "    term2 = sp.erf((x - a) / (2 * np.sqrt(D * (t - t0))))\n",
    "    return 1 - 0.5 * (term1 - term2)\n",
    "\n",
    "# Interactive plotting function\n",
    "def plot_concentration(D):\n",
    "    a = 1  # constant a\n",
    "    t0 = 0  # initial time\n",
    "    t = 5  # you can change this as needed\n",
    "    x = np.linspace(-3, 3, 400)\n",
    "\n",
    "    plt.figure(figsize=(10, 6))\n",
    "    plt.plot(x, n_solution(x, a, D, t, t0), label=f'Diffusion Coefficient: D={D}')\n",
    "    plt.xlabel('x')\n",
    "    plt.ylabel('n(x, t)')\n",
    "    plt.title('Concentration Profile with Variable Diffusion Coefficient')\n",
    "    plt.axhline(0, color='black', linewidth=0.5)\n",
    "    plt.axvline(0, color='black', linewidth=0.5)\n",
    "    plt.grid(True)\n",
    "    plt.legend()\n",
    "    plt.show()\n",
    "\n",
    "# Create the widget\n",
    "interact(plot_concentration, D=(0.01, 1.0, 0.01))"
   ]
  }
 ],
 "metadata": {
  "kernelspec": {
   "display_name": "Python 3 (ipykernel)",
   "language": "python",
   "name": "python3"
  },
  "language_info": {
   "codemirror_mode": {
    "name": "ipython",
    "version": 3
   },
   "file_extension": ".py",
   "mimetype": "text/x-python",
   "name": "python",
   "nbconvert_exporter": "python",
   "pygments_lexer": "ipython3",
   "version": "3.8.16"
  }
 },
 "nbformat": 4,
 "nbformat_minor": 5
}
