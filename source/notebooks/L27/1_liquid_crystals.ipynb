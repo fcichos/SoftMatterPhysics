{
 "cells": [
  {
   "cell_type": "markdown",
   "id": "7d3e7d25-cdbc-465a-af43-569364406951",
   "metadata": {},
   "source": [
    "# Liquid Crystals"
   ]
  },
  {
   "cell_type": "markdown",
   "id": "dde7deca-d69b-47c4-86a9-2ce5c445b2cc",
   "metadata": {},
   "source": [
    "$$\n",
    "Q_{\\alpha \\beta}(\\boldsymbol{r})=\\frac{1}{N} \\sum_{i}\\left(u_{\\alpha}^{(i)} u_{\\beta}^{(i)}-\\frac{1}{3} \\delta_{\\alpha \\beta}\\right)\n",
    "$$\n",
    "\n",
    "- $Q_{\\alpha \\beta}=Q_{\\beta \\alpha} \\text { since } u_{\\alpha}^{(i)} u_{\\beta}^{(i)}=u_{\\beta}^{(i)} u_{\\alpha}^{(i)}$\n",
    "- $\\begin{aligned}\n",
    "\\operatorname{Tr} Q_{\\alpha \\beta} &=Q_{x x}+Q_{y y}+Q_{z z}=\\\\\n",
    "&=\\frac{1}{N} \\sum_{i}\\left[\\left(u_{x}^{(i)}\\right)^{2}+\\left(u_{y}^{(i)}\\right)^{2}+\\left(u_{z}^{(i)}\\right)^{2}-1\\right]=0\n",
    "\\end{aligned}$\n",
    "\n",
    "- $\\begin{aligned}\n",
    "&u_{x}=\\sin \\theta \\cos \\phi \\\\\n",
    "&u_{y}=\\sin \\theta \\sin \\phi \\\\\n",
    "&u_{z}=\\cos \\theta\n",
    "\\end{aligned}$\n",
    "\n",
    "$$\n",
    "Q_{\\alpha \\beta}=\\int_{0}^{2 \\pi} d \\phi \\int_{0}^{\\pi} \\sin \\theta d \\theta f(\\theta, \\phi)\\left(u_{\\alpha} u_{\\beta}-\\frac{1}{3} \\delta_{\\alpha \\beta}\\right)\n",
    "$$\n",
    "\n",
    "\n",
    "$$\n",
    "\\begin{aligned}\n",
    "Q_{z z} &=\\frac{1}{4 \\pi} \\int_{0}^{2 \\pi} d \\phi \\int_{0}^{\\pi} \\sin \\theta d \\theta\\left(\\cos ^{2} \\theta-\\frac{1}{3}\\right)=\\\\\n",
    "&=\\left.\\frac{1}{6}\\left(x^{3}-x\\right)\\right|_{-1} ^{1}=0 .\n",
    "\\end{aligned}\n",
    "$$\n",
    "\n",
    "prolate\n",
    "\n",
    "$$\n",
    "\\mathbf{Q}^{\\text {prolate }}=\\left(\\begin{array}{ccc}\n",
    "-1 / 3 & 0 & 0 \\\\\n",
    "0 & -1 / 3 & 0 \\\\\n",
    "0 & 0 & 2 / 3\n",
    "\\end{array}\\right)\n",
    "$$\n",
    "\n",
    "oblate \n",
    "\n",
    "$$\n",
    "\\mathbf{Q}^{\\text {oblate }}=\\left(\\begin{array}{ccc}\n",
    "1 / 6 & 0 & 0 \\\\\n",
    "0 & 1 / 6 & 0 \\\\\n",
    "0 & 0 & -1 / 3\n",
    "\\end{array}\\right)\n",
    "$$\n",
    "\n",
    "\n",
    "$$\n",
    "Q_{\\alpha \\beta}=S\\left(n_{\\alpha} n_{\\beta}-\\frac{1}{3} \\delta_{\\alpha \\beta}\\right)\n",
    "$$\n",
    "\n",
    "$$\n",
    "Q_{z z}=\\frac{2}{3} S, \\quad Q_{x x}=Q_{y y}=-\\frac{1}{3} S\n",
    "$$\n",
    "\n",
    "$$\n",
    "S=\\int_{0}^{\\pi}\\left(1-\\frac{3}{2} \\sin ^{2} \\theta\\right) f(\\theta) \\sin \\theta d \\theta\n",
    "$$\n",
    "\n",
    "$$\n",
    "f(\\theta)=\\int_{0}^{2 \\pi} f(\\theta, \\phi) d \\phi\n",
    "$$"
   ]
  }
 ],
 "metadata": {
  "kernelspec": {
   "display_name": "Python 3 (ipykernel)",
   "language": "python",
   "name": "python3"
  },
  "language_info": {
   "codemirror_mode": {
    "name": "ipython",
    "version": 3
   },
   "file_extension": ".py",
   "mimetype": "text/x-python",
   "name": "python",
   "nbconvert_exporter": "python",
   "pygments_lexer": "ipython3",
   "version": "3.8.16"
  },
  "widgets": {
   "application/vnd.jupyter.widget-state+json": {
    "state": {},
    "version_major": 2,
    "version_minor": 0
   }
  }
 },
 "nbformat": 4,
 "nbformat_minor": 5
}
