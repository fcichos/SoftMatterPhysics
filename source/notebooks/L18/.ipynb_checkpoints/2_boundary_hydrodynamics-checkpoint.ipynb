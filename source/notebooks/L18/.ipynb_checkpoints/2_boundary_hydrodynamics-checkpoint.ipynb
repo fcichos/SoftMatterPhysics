{
 "cells": [
  {
   "cell_type": "raw",
   "id": "14cd4f51-0c8c-4e7e-bc7d-2aa5ecbe5137",
   "metadata": {},
   "source": [
    "---\n",
    "execute:\n",
    "  echo: false\n",
    "---"
   ]
  },
  {
   "cell_type": "markdown",
   "id": "1ba3005b-6018-46f3-bb96-25c0a59ebda8",
   "metadata": {},
   "source": [
    "# Boundary Hydrodynamics"
   ]
  },
  {
   "cell_type": "code",
   "execution_count": 1,
   "id": "cf8d40cf-5a5c-419b-9b9a-365852946251",
   "metadata": {
    "nbsphinx": "hidden",
    "tags": []
   },
   "outputs": [],
   "source": [
    "import numpy as np\n",
    "import matplotlib.pyplot as plt\n",
    "from numpy.linalg import norm\n",
    "from scipy.constants import c,epsilon_0,e,physical_constants\n",
    "import json\n",
    "\n",
    "%config InlineBackend.figure_format = 'retina' \n",
    "\n",
    "with open('style.json', 'r') as fp:\n",
    "    style = json.load(fp)\n",
    "    \n",
    "plt.rcParams.update(style) "
   ]
  },
  {
   "cell_type": "markdown",
   "id": "3346a557-b999-4774-8ab6-2afeed7dc66d",
   "metadata": {},
   "source": [
    "As another important example of hydrodynamical flow fields we would like to have a look at hydrodynamic flows that arise from interfacial forces. In most of the cases, these interfacial forces are often caused by osmotic pressure differences an are termed osmotic flows. The osmotic pressure difference may thereby arise from various properties, e.g. temperature gradients, electrostatic potential gradients, concentration gradients.  \n",
    "\n",
    "To analyze this type of boundary flow, we first look at the geometry below.\n",
    "\n",
    "\n",
    "![Boundary Flow](img/boundary_flow.png)\n",
    "\n",
    "The boundary flows are the results of the fact that the interaction between liquid molecules is altered by the presence of the substrate depicted below (some symmetry breaking). This altered interaction is present at a length scale of nanometers (!) only. Think for example about the influence of van der Waals forces or the electric double layer. Beyond this interfacial region of a few nanometers the influence of the solid surface has decayed and the liquid exhibits bulk-like properties. It is this tiny interfacial region which we will consider in the description below."
   ]
  },
  {
   "cell_type": "markdown",
   "id": "ef364e1a-dc09-46d5-8a55-6f4a96eb6c9b",
   "metadata": {},
   "source": [
    "According to the above picture, we can use the Stokes equation \n",
    "\n",
    "\\begin{equation}\n",
    "\\eta \\Delta \\vec{u}= -\\nabla p-\\vec{f}\n",
    "\\end{equation}\n",
    "\n",
    "and split it according to the $x$ (tangential) and $z$ (nromal) components.\n",
    "\n",
    "$$\n",
    "\\begin{aligned}\n",
    "\\text{Normal to surface}&\\\\\n",
    "\\frac{\\partial^2 \\vec{u}}{\\partial z^2} =& 0\\\\\n",
    "0 =& \\frac{\\partial p}{\\partial z} - f_z\n",
    "\\end{aligned}\n",
    "$$\n",
    "\n",
    "\n",
    "$$\n",
    "\\begin{aligned}\n",
    "\\text{Tangential to surface}&\\\\\n",
    "\\eta \\frac{\\partial^2 \\vec{u}}{\\partial z^2} =& \\frac{\\partial p}{\\partial x} - f_x\n",
    "\\end{aligned}\n",
    "$$\n",
    "\n",
    "We assume that close to the boundary there will be no flow component normal to the surface, which simplifies the normal components of the Stokes equation into a balance of pressure gradient (presumably osmotic pressure) and normal force density.\n",
    "\n",
    "For the tangential component we have a tangential pressure gradient (osmotic) and a tangential force density which determine the flow. \n",
    "\n",
    "\n",
    "We can now integrate the equation for the tangential component by parts  with two boundary conditions, i.e. $u(z=0)=0$ and $u(z\\gg\\lambda)=u_B=\\mathrm{const.}$ and find\n",
    "\n",
    "\\begin{equation}\n",
    "u_B=\\frac{1}{\\eta}\\int_0^{\\infty} z\\left (f_x-\\frac{dp}{dx}\\right )dz\n",
    "\\end{equation}\n",
    "\n",
    "for the value of the boundary velocity $u_B$, which is established rounghly at a distance $\\lambda$ from the interface. Note that this upper boundary condition says that there is no solid boundary (with no-slip boundary condition) at infinity. We can introduce the boundary condition at large distance later.  The question is now what in detail the term in the brackets of the previous equation is."
   ]
  },
  {
   "cell_type": "markdown",
   "id": "2186e404-cbec-47bd-bc2b-4fc7ba87c452",
   "metadata": {},
   "source": [
    "## Thermo-osmosis"
   ]
  },
  {
   "cell_type": "markdown",
   "id": "00a0ec74-d6e0-40cf-9130-6ba1af245ba4",
   "metadata": {},
   "source": [
    "We want to evaluate the boundary flow for the case when the surface is charged and in contact with an electrolyte solution. In this case, we can refer to the Debye-Hückel theory, which we earlier developed. In addition, this double layer is subject to a temperature gradient tangential to the surface, which will be the source of the osmotic pressure gradient along the surface. \n",
    "\n",
    "![DoubleLayer](img/charged_surface.png)"
   ]
  },
  {
   "cell_type": "markdown",
   "id": "123cfe32-155f-46fb-96b9-959d859f4cef",
   "metadata": {},
   "source": [
    "For this situation we have all equations at hand.\n",
    "We have first of all\n",
    "\n",
    "- excess charge density: $\\rho = e (n_+-n_-)$\n",
    "- total ion density: $n=n_++n_-$\n",
    "- the ion density distribution: $n_{\\pm}=n_0(\\exp\\left (\\mp \\frac{e\\psi}{k_B T}\\right )-1)$\n",
    "- $n_0$ the bulk ion density\n",
    "- $\\psi$ the electrostatic potential\n",
    "\n",
    "The force density in the system is given by\n",
    "\n",
    "$$\n",
    "f=-\\rho \\nabla \\psi + \\ldots\n",
    "$$\n",
    "\n",
    "where the dots denote other terms (electrostriction, change of dielectric constant ...), which exist, but which we neglect.\n",
    "\n",
    "Further, we can write the pressure as the osmotic pressure of the ion density \n",
    "\n",
    "$$\n",
    "p=n k_B T=(n_++n_-)k_B T=\\left ( n_0(\\exp\\left (- \\frac{e\\psi}{k_B T}\\right )-1)+ n_0(\\exp\\left ( \\frac{e\\psi}{k_B T}\\right )-1) \\right ) k_B T\n",
    "$$\n",
    "\n",
    "The task is now to calculate the term $f_x-\\frac{\\partial p}{\\partial x}$ using derivatives of the above written pressure. Note that we have to take the derivative of the temperature with respect to the position but assume the temperature in the Boltzmann factors constant.\n",
    "\n",
    "The result of this a bit more lengthy calculation is that\n",
    "\n",
    "$$\n",
    "f_x-\\frac{\\partial p}{\\partial x} =-nk_B T \\frac{1}{T}\\frac{\\partial T}{\\partial x} - \\rho \\psi \\frac{1}{T}\\frac{\\partial T}{\\partial x}\n",
    "$$\n",
    "\n",
    "or in 3-dimensions \n",
    "\n",
    "$$\n",
    "\\mathbf{f}-\\nabla p= -\\left(\\varrho \\psi+n k_{\\mathrm{B}} T\\right) \\frac{\\nabla T}{T}\n",
    "$$\n",
    "\n",
    "The term in fron of the fraction is an electrostatic interaction energy related term and a term corresponding to the ideal gas pressure. Both terms together clearly make up an enthalpy (energy + pressure x volume). In this case, they correspond to an excess enthalpy density as there is no contribution if there is no electrostatic surface charge involved."
   ]
  },
  {
   "cell_type": "markdown",
   "id": "155bf5ea-b27f-41ca-8a56-1740b09faff0",
   "metadata": {},
   "source": [
    "We can therefore also write the boundary velocity $u_B$ as\n",
    "\n",
    "\\begin{equation}\n",
    "u_B= -\\frac{1}{\\eta}\\int_0^{\\infty} z h(z)dz\\frac{\\nabla T_{||}}{T}\n",
    "\\end{equation}\n",
    "\n",
    "where $h(z)$ is the excess enthalpy density of the interaction of the liquid with the solid as compared to the liquid alone. As the interaction between liquid and solid is often attractive (van der Waals alone already is attractive), the excess enthalpy density is negative and the difference of force density and pressure density results in forces along the temperarture gradient, e.g. from the cold region to the hot region. If the excess enthalpy is positive, the flow is driven from hot to cold regions. Note that this flow is established in a thin liquid layer of thickness $\\lambda$, which is only a few nanometers thin. Within these few nanometers the flow velocity rises from 0 to a few 10 $\\mu m/s$. "
   ]
  },
  {
   "cell_type": "markdown",
   "id": "943208e8-d306-4a33-b477-ecbbb7339ce5",
   "metadata": {},
   "source": [
    "The plot below calculates the integral over the product of $z$ and the excess enthalpy for the electric double layer, assuming that some of the constants are 1 and the temperature gradient just gives a minus sign (assuming hot is on the left and cold is on the right)."
   ]
  },
  {
   "cell_type": "code",
   "execution_count": 2,
   "id": "47c4c707-cc95-4f57-acda-c57fbfe52bcc",
   "metadata": {
    "nbsphinx": "hidden",
    "tags": []
   },
   "outputs": [],
   "source": [
    "## electrostatic potential\n",
    "def psi(z,lam_D):\n",
    "    return(np.exp(-z/lam_D))"
   ]
  },
  {
   "cell_type": "code",
   "execution_count": 3,
   "id": "6ffe74c5-01e7-4bce-a4e1-fccb2feccdef",
   "metadata": {
    "nbsphinx": "hidden",
    "tags": []
   },
   "outputs": [],
   "source": [
    "## n+\n",
    "def npl(z,lam_D,n):\n",
    "    return(n*(np.exp(-psi(z,lam_D))-1))\n",
    "\n",
    "## n-    \n",
    "def nmi(z,lam_D,n):\n",
    "    return(n*(np.exp(psi(z,lam_D))-1))    "
   ]
  },
  {
   "cell_type": "code",
   "execution_count": 4,
   "id": "91853530-20bd-4c42-9606-122287005fc4",
   "metadata": {
    "nbsphinx": "hidden",
    "tags": []
   },
   "outputs": [],
   "source": [
    "## total n\n",
    "def nt(z,lam_D,n):\n",
    "    return(2*n*(np.cosh(psi(z,lam_D))-1))    "
   ]
  },
  {
   "cell_type": "code",
   "execution_count": 5,
   "id": "243fc09e-d756-4850-b8af-bdf65a0f235c",
   "metadata": {
    "nbsphinx": "hidden",
    "tags": []
   },
   "outputs": [],
   "source": [
    "## excess enhalpy \n",
    "\n",
    "def h(z,lam_D,n):\n",
    "    return((npl(z,lam_D,1)-nmi(z,lam_D,1))*psi(z,lam_D)+nt(z,lam_D,1))"
   ]
  },
  {
   "cell_type": "raw",
   "id": "f798261f-09f2-40a8-a9b8-d4877a695ee9",
   "metadata": {},
   "source": [
    "::: {.content-visible when-format=\"html\"}"
   ]
  },
  {
   "cell_type": "code",
   "execution_count": 6,
   "id": "b00cd329-92c7-4fa5-9d2e-67db799aa945",
   "metadata": {
    "nbsphinx": "hidden",
    "tags": []
   },
   "outputs": [
    {
     "data": {
      "image/png": "[encoded data removed]",
      "text/plain": [
       "<Figure size 600x400 with 1 Axes>"
      ]
     },
     "metadata": {
      "image/png": {
       "height": 374,
       "width": 577
      }
     },
     "output_type": "display_data"
    }
   ],
   "source": [
    "#| code-fold: true\n",
    "\n",
    "plt.figure(figsize=(6,4))\n",
    "plt.axhline(y=0,linestyle=\"--\")\n",
    "plt.axhline(y=1,linestyle=\"--\")\n",
    "z=np.linspace(0.1,5,1000)\n",
    "inth=-np.cumsum(z*(h(z,1,1))*(z[1]-z[0])) ## numerically integrate the excess enthalpy *z\n",
    "[plt.arrow(0,z[l],-inth[l]*5,0,head_width=0.2,head_length=0.1) for l in range(0,len(z),50)]\n",
    "plt.xlim(-4,2)\n",
    "plt.xlabel(\"position x \")\n",
    "plt.ylabel(\"position y \")\n",
    "plt.tight_layout()\n",
    "plt.savefig(\"img/excess_enhalpy.png\")\n",
    "plt.show()"
   ]
  },
  {
   "cell_type": "raw",
   "id": "ba5b9de5-71cb-42b6-8fa1-012e18b23989",
   "metadata": {},
   "source": [
    ":::"
   ]
  },
  {
   "cell_type": "raw",
   "id": "487a56b2-1d33-437a-81fc-4ad45b66a5ee",
   "metadata": {},
   "source": [
    "::: {.content-visible unless-format=\"html\"}\n",
    "![](img/excess_enhalpy.png)\n",
    ":::"
   ]
  },
  {
   "cell_type": "markdown",
   "id": "848ca52b-5192-4497-a551-6fb3c8ee8207",
   "metadata": {},
   "source": [
    "The flow profile we have calculated saturates at the boundary velocity $u_B$ as we have assumed this as the boundary condition at infinite distance. If there is a second surface at some distance, even though at finite distance but still large as compared to the interaction range, the velocity magnitude has to decay to zero towards this surface. Instead of assuming the complicated flow profile as depicted below, we can in cases where all other distances are large as compared to the interaction range $\\lambda_D$ assume that the velocity directly at the interface is $u_B$. The hydrodynamic boundary condition is thus altered from a **no-slip boundary condition** to a **slip boundary condition** with the slip velocity $u_B$."
   ]
  }
 ],
 "metadata": {
  "kernelspec": {
   "display_name": "Python 3 (ipykernel)",
   "language": "python",
   "name": "python3"
  },
  "language_info": {
   "codemirror_mode": {
    "name": "ipython",
    "version": 3
   },
   "file_extension": ".py",
   "mimetype": "text/x-python",
   "name": "python",
   "nbconvert_exporter": "python",
   "pygments_lexer": "ipython3",
   "version": "3.8.16"
  },
  "toc": {
   "base_numbering": 1,
   "nav_menu": {},
   "number_sections": true,
   "sideBar": true,
   "skip_h1_title": false,
   "title_cell": "Table of Contents",
   "title_sidebar": "Contents",
   "toc_cell": false,
   "toc_position": {},
   "toc_section_display": true,
   "toc_window_display": false
  },
  "widgets": {
   "application/vnd.jupyter.widget-state+json": {
    "state": {},
    "version_major": 2,
    "version_minor": 0
   }
  }
 },
 "nbformat": 4,
 "nbformat_minor": 5
}
