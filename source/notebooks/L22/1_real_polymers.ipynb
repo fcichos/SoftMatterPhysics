{
 "cells": [
  {
   "cell_type": "raw",
   "id": "89b2c8f9-62ea-4fdf-8833-67a4ea5df4c3",
   "metadata": {},
   "source": [
    "---\n",
    "execute:\n",
    "  echo: false\n",
    "---"
   ]
  },
  {
   "cell_type": "markdown",
   "id": "6405efbb-d152-4d98-a6bf-3646a42019b9",
   "metadata": {},
   "source": [
    "# Real Polymers\n",
    "\n",
    "[File as PDF](https://github.com/fcichos/SoftMatterPhysics/blob/669c5137e6e7f996dcdba31d56ba96e5394ec11c/source/notebooks/L22/1_real_polymers.pdf)"
   ]
  },
  {
   "cell_type": "code",
   "execution_count": 1,
   "id": "067ded70-f72e-4bf3-a2aa-a984430c9ff0",
   "metadata": {
    "nbsphinx": "hidden",
    "tags": []
   },
   "outputs": [],
   "source": [
    "import numpy as np\n",
    "import matplotlib.pyplot as plt\n",
    "from numpy.linalg import norm\n",
    "from scipy.constants import c,epsilon_0,e,k,physical_constants\n",
    "import json\n",
    "\n",
    "%config InlineBackend.figure_format = 'retina' \n",
    "\n",
    "with open('style.json', 'r') as fp:\n",
    "    style = json.load(fp)\n",
    "    \n",
    "plt.rcParams.update(style) "
   ]
  },
  {
   "cell_type": "markdown",
   "id": "f065e941-3ef0-40d0-a45c-aeb9b63292a8",
   "metadata": {},
   "source": [
    "We want to look at properties of real polymers in the following, which means that we have to incorporate interactions between monomers, which are of finite size and also have interactions with the solvent. We will do that in a mean field model introducing the so-called Mayer f-function."
   ]
  },
  {
   "cell_type": "markdown",
   "id": "7e7b7bfc-c103-49b2-8bcd-0f35129ce082",
   "metadata": {},
   "source": [
    "## Mayer f-function and excluded volume"
   ]
  },
  {
   "cell_type": "markdown",
   "id": "8c2320c8-43d4-4b41-834f-db40f4cbbc9d",
   "metadata": {},
   "source": [
    "Consider for that purpose the interaction by two monomers in a solvent with an effective potential $U(r)$. This potential typically has some large repulsive component at very short distances, some attractive components (negative) at intermediate length scales and a zero value at very large length scales. \n",
    "\n",
    "![Interaction](img/interaction.png)"
   ]
  },
  {
   "cell_type": "markdown",
   "id": "4234217c-43ce-4001-b1d8-1fe93aed9cda",
   "metadata": {},
   "source": [
    "### Interaction potential"
   ]
  },
  {
   "cell_type": "markdown",
   "id": "10701557-a59e-46c6-8c75-d0839e423860",
   "metadata": {
    "tags": []
   },
   "source": [
    "The plots below show some example interaction potentials. The left graph displays the Lennard-Jones potential, the right one the hard sphere potential, which is also called an athermal potential, as there is no temperature in it due to the missing minimum. \n",
    "\n",
    "Note again, that this potential includes all effects of the solvent as well."
   ]
  },
  {
   "cell_type": "code",
   "execution_count": 2,
   "id": "0770b15e-3bdf-46d7-8aee-d5c4f68f6554",
   "metadata": {
    "nbsphinx": "hidden",
    "tags": []
   },
   "outputs": [],
   "source": [
    "def LJ(eps,sig,r):\n",
    "    return(4*eps*((sig/r)**12-(sig/r)**6))    "
   ]
  },
  {
   "cell_type": "code",
   "execution_count": 3,
   "id": "420ac038-883d-4d88-9633-9da96285605c",
   "metadata": {
    "nbsphinx": "hidden",
    "tags": []
   },
   "outputs": [],
   "source": [
    "r=np.linspace(0.1,10,100)"
   ]
  },
  {
   "cell_type": "code",
   "execution_count": 4,
   "id": "46c09682-7632-48a8-a74d-fb6d4dfa874f",
   "metadata": {
    "nbsphinx": "hidden",
    "tags": []
   },
   "outputs": [],
   "source": [
    "fig=plt.figure(figsize=(10,5))\n",
    "plt.ion()\n",
    "plt.subplot(121)\n",
    "plt.plot(r,LJ(1,3,r),'k--')\n",
    "plt.ylim(-3,3)\n",
    "plt.axhline(y=0)\n",
    "plt.xlabel(\"distance r\")\n",
    "plt.ylabel(r\"$U(r)$\")\n",
    "plt.subplot(122)\n",
    "plt.plot([2,2],[0,3],'k--')\n",
    "plt.axhline(y=0)\n",
    "plt.plot([1,10],[0,0],'k--')\n",
    "plt.ylim(-3,3)\n",
    "plt.xlim(0)\n",
    "plt.xlabel(\"distance r\")\n",
    "plt.ylabel(r\"$U(r)$\")\n",
    "plt.tight_layout()\n",
    "plt.savefig(\"img/tmp1.png\")\n",
    "plt.close(fig)"
   ]
  },
  {
   "cell_type": "markdown",
   "id": "9d04998e-5a60-446f-aa48-6e880156f65c",
   "metadata": {},
   "source": [
    "![tmp1](img/tmp1.png)"
   ]
  },
  {
   "cell_type": "markdown",
   "id": "ff453976-e094-4b34-8461-d047e6597173",
   "metadata": {},
   "source": [
    "### Probability distribution"
   ]
  },
  {
   "cell_type": "markdown",
   "id": "643a02c1-2dfe-46c6-aa63-2c605567c4f0",
   "metadata": {},
   "source": [
    "The probability distribution for finding the the monomers at a certain distance $r$ is then given by the Boltzman factor \n",
    "\n",
    "\\begin{equation}\n",
    "p(r)=\\exp\\left (-\\frac{U(r)}{k_B T}\\right)\n",
    "\\end{equation}\n",
    "\n",
    "For the two potentials shown above, the probability therefore is zero wherever the potential is infinitely large. Whenever the potential is zero we find a probability density value of 1 while it is larger than 1 in the regions, where the potential is attractive. "
   ]
  },
  {
   "cell_type": "code",
   "execution_count": 5,
   "id": "1b1fb783-8b35-4ebb-bdd6-ae2aecc40972",
   "metadata": {
    "nbsphinx": "hidden",
    "tags": []
   },
   "outputs": [],
   "source": [
    "fig=plt.figure(figsize=(10,5))\n",
    "plt.ion()\n",
    "plt.subplot(121)\n",
    "plt.plot(r,np.exp(-LJ(1,3,r)),'k--')\n",
    "plt.ylim(-3,3)\n",
    "plt.axhline(y=0)\n",
    "plt.xlabel(\"distance r\")\n",
    "plt.ylabel(r\"$p(r)$\")\n",
    "plt.subplot(122)\n",
    "plt.plot(r,np.heaviside(r-2,1),'k--')\n",
    "plt.axhline(y=0)\n",
    "plt.plot([1,10],[0,0],'k--')\n",
    "plt.ylim(-3,3)\n",
    "plt.xlim(0,10)\n",
    "plt.xlabel(\"distance r\")\n",
    "plt.ylabel(r\"$p(r)$\")\n",
    "plt.tight_layout()\n",
    "plt.savefig(\"img/tmp2.png\")\n",
    "plt.close(fig)"
   ]
  },
  {
   "cell_type": "markdown",
   "id": "dcae2afa-244b-4d49-9c0b-41c192f8ceff",
   "metadata": {},
   "source": [
    "![tmp2](img/tmp2.png)"
   ]
  },
  {
   "cell_type": "markdown",
   "id": "7e795f6f-5def-4ff6-98b3-3167e4e2662e",
   "metadata": {},
   "source": [
    "### Mayer f-function"
   ]
  },
  {
   "cell_type": "markdown",
   "id": "602fd1d8-93ac-4dcb-adfc-b99dd50d835c",
   "metadata": {},
   "source": [
    "The Mayer f-function measures now the deviation of the probability from the regions where the potential is zero or the probability density gives 1. It is defined by\n",
    "\n",
    "\\begin{equation}\n",
    "f(r)=\\exp\\left (-\\frac{U(r)}{k_B T}\\right)-1 \\tag{Mayer f-function}\n",
    "\\end{equation}"
   ]
  },
  {
   "cell_type": "code",
   "execution_count": 6,
   "id": "9f3fa149-08f8-41b5-bf4e-b69bdb3b7d1c",
   "metadata": {
    "nbsphinx": "hidden",
    "tags": []
   },
   "outputs": [],
   "source": [
    "fig=plt.figure(figsize=(10,5))\n",
    "plt.subplot(121)\n",
    "plt.plot(r,np.exp(-LJ(1,3,r))-1,'k--')\n",
    "plt.ylim(-3,3)\n",
    "plt.axhline(y=0)\n",
    "plt.xlabel(\"distance r\")\n",
    "plt.ylabel(r\"$f(r)$\")\n",
    "plt.subplot(122)\n",
    "plt.plot(r,np.heaviside(r-2,1)-1,'k--')\n",
    "plt.axhline(y=0)\n",
    "plt.ylim(-3,3)\n",
    "plt.xlim(0,10)\n",
    "plt.xlabel(\"distance r\")\n",
    "plt.ylabel(r\"$f(r)$\")\n",
    "plt.tight_layout()\n",
    "plt.savefig(\"img/tmp3.png\")\n",
    "plt.close(fig)"
   ]
  },
  {
   "cell_type": "markdown",
   "id": "a3c6550a-1ddd-4a45-b0a6-f91a1aaf99e3",
   "metadata": {},
   "source": [
    "![tmp3](img/tmp3.png)"
   ]
  },
  {
   "cell_type": "markdown",
   "id": "72d1322d-1b57-4fe0-b404-171bbc426a2b",
   "metadata": {},
   "source": [
    "This definition makes sense if we consider the right example of a hard sphere interaction. The free volume can then be calculated by \n",
    "\n",
    "\n",
    "\\begin{equation}\n",
    "v=-\\int f(r)d^3r=\\int \\left[1-\\exp\\left (-\\frac{U(r)}{k_B T}\\right) \\right]d^3r\n",
    "\\end{equation}\n",
    "\n",
    "which is giving in the case of the hard sphere interaction just $4\\pi R^3/3$, where R is the contact separation distance of the two spheres.\n",
    "Thus the volume integral over the Mayer f-function is directly giving the excluded volume for the pairwise interaction. Note that the excluded volume can also be negative. This happens, when the attractive interaction is very strong. It can also be zero, when both positive and negative areas under the Mayer f-function are of the same size. "
   ]
  },
  {
   "cell_type": "markdown",
   "id": "5cc15d53-c4cf-45fd-9294-6219093b6b40",
   "metadata": {},
   "source": [
    "### Polymer chain as a real gas"
   ]
  },
  {
   "cell_type": "markdown",
   "id": "42627170-6d31-424f-b310-a0935b2039f7",
   "metadata": {},
   "source": [
    "Our further calculations will now base the excluded volume influence on the conformation of a polymer chain under the assumtion that all monomers (or actually Kuhn segments) are independet and don't correlate in their position. They will thus behave like a real gas and show effect which we know from the **van der Waals gas**, such as co-volume and cohesive pressure. The two effects are actually corrections to the equation of state of the **ideal gas**, which can be written as\n",
    "\n",
    "\\begin{equation}\n",
    "Z\\equiv = \\frac{pV_m}{R T}=1 \\tag{compressibility factor}\n",
    "\\end{equation}\n",
    "\n",
    "where $p$ is the pressure, $V_m$ the molar volume and $R$ is the gas constant, i.e. $R=k_B N_A$. For a real gas, the corrections have to scale with the density of the objects $\\rho=1/V_m$ and we can write the compressibility factor as a Taylor series expansion\n",
    "\n",
    "\\begin{equation}\n",
    "Z=\\frac{pV_m}{R T}= 1+ B(T)\\rho +C(T)\\rho^2 + D(T)\\rho^3+\\ldots \\tag{virial expansion}\n",
    "\\end{equation}\n",
    "\n",
    "which is the viral expansion of the compressibility factor for a real gas. The coefficients $B(T),C(T),D(T)$ are called the viral expansion coefficient. \n",
    "\n",
    "Let's have a look at the first one in the case of a van der Waals gas, which is $B(T)$. The presure of a van der Waals gas reads\n",
    "\n",
    "\\begin{equation}\n",
    "p=\\frac{RT}{(V_m-b)}-\\frac{a}{V_m^2}\n",
    "\\end{equation}\n",
    "\n",
    "where $b$ denotes the co-volume (the volume taken by the molecules themselves) and $a$ amounts for the cohesive pressure of the gas molecules. If we set $a=0$ we can write the compressibility factor \n",
    "\n",
    "\\begin{equation}\n",
    "Z=\\frac{PV_m}{RT}=\\frac{1}{1-\\frac{b}{V_m}}\n",
    "\\end{equation}\n"
   ]
  },
  {
   "cell_type": "markdown",
   "id": "8e6dde5f-6e0c-467b-ac0e-505107c5ec75",
   "metadata": {},
   "source": [
    "For $b/V_m<1$, we can do a Taylor expansion which yields\n",
    "\n",
    "\\begin{equation}\n",
    "Z=1+b\\frac{1}{V_m}+b^2\\frac{1}{V_m^2}+\\ldots=1+b\\rho +b^2 \\rho^2 + \\ldots\n",
    "\\end{equation}\n",
    "\n",
    "Comparing with the virial expansion above yields the fact that the virial expansion coefficient \n",
    "\n",
    "$$\n",
    "B(T)=b\n",
    "$$\n",
    "\n",
    "where b was the molar co-volume in the van der Waals equation, e.g. the excluded volume. Correspondingly, the virial expansion coefficient is given by the integral over the Mayer f-function, i.e. in spherical coordinates\n",
    "\n",
    "\n",
    "$$\n",
    "B(T)=-\\int f(r)d^3r=-4 \\pi \\int_{0}^{\\infty}\\left(e^{-\\frac{U(r)}{k_B T}}-1\\right) r^{2} d^3r\n",
    "$$\n",
    "\n",
    "Using this relation, we have a way to introduce the monomer-monomer and monomer-solvent interaction that is hidden in the May f-function into the equation of state of a real gas of polymer segements. We will come back to this solution.\n"
   ]
  },
  {
   "cell_type": "markdown",
   "id": "004e6c50-b8e5-453f-badc-fe5cb5b4563b",
   "metadata": {},
   "source": [
    "## Non-spherical segments and Free energy of interaction of a real chain"
   ]
  },
  {
   "cell_type": "markdown",
   "id": "54996e90-17fb-47a5-93c7-95f8aee448cc",
   "metadata": {},
   "source": [
    "While we have assumed so far (without emphasizing it to much) that the interaction of the monomers is radially symmetric (monomers are spheres), typical monomers are rather rod-like. Thus we should get an idea about how the free volume changes when we go from a sphere to the rod. The procedure below considers the free energy of the interaction and replaces a rod by a set of spheres. \n",
    "We can get an idea about the free energy of a chain by coming back to our osmotic pressure formula\n",
    "\n",
    "\\begin{equation}\n",
    "\\Pi=n k_B T\n",
    "\\end{equation}\n",
    "\n",
    "where $n$ is the number density of molecules. The unit of pressure is $N/m^2$ or $J/m^3$, which is an energy density. The formula above tells us that adding a single molecule comes at some cost, which is $k_B T$. Yet, this is an ideal gas consideration. \n",
    "If we want to add a contribution of the excluded volume, we can refer to the overlap fraction\n",
    "\n",
    "$$\n",
    "\\Phi^*=b^3 \\frac{N}{R^3}\n",
    "$$\n",
    "\n",
    "where $b$ was the Kuhn length and $R$ the root mean squared end-to-end distance. The number of monomer-monomer contacts was $N\\Phi^*$, which finally gives $N^2/R^6$ contacts per volume. \n",
    "The free energy of interaction per volume is therefore \n",
    "\n",
    "\\begin{equation}\n",
    "\\frac{F_\\mathrm{int}}{V}=k_B T(vc_m^2 + w c_m^3+\\ldots)=k_B T (v\\frac{N^2}{R^6}+w\\frac{N^3}{R^9}+\\ldots)\n",
    "\\end{equation}\n",
    "\n",
    "where $c_m=N/R^3$ is the monomer concentration. The first term in the above equation results from the monomer-monomer contacts as we introduced. The second term is accordingly the result of the contact between three monomers and so on. Therefore, this is also a virial expansion and the first virial expansion coefficient $v$ is the excluded volume of the bimolecular monomer contact."
   ]
  },
  {
   "cell_type": "markdown",
   "id": "d6d25a9f-1b08-4149-b000-9e3dd3576ca7",
   "metadata": {},
   "source": [
    "This consideration helps us to understand the role of non-spherical rodlike monomers or segments. If we have a rodlike segment of length $b$ and radius $d$, then the rod can be replaced by spherical monomers of radius $d$. The number of spherical monomers per segment is then $b/d$. Thus if a chain has $N$ rodlike segments, then it can be replaced by $n=Nb/d$ spherical monomers.\n",
    "\n",
    "In case of hard-sphere interactions the overall contribution of the excluded volume to the free energy shall be independent of the fact if the rods are replaced by spheres so the term\n",
    "\n",
    "$$\n",
    "vN^2/R^6\n",
    "$$\n",
    "\n",
    "shall give the same results, and therefore\n",
    "\n",
    "$$\n",
    "v_s n^2 = v_c N^2\n",
    "$$\n",
    "\n",
    "or\n",
    "\n",
    "$$\n",
    "w_sn^3=w_c N^3\n",
    "$$\n",
    "\n",
    "With the spherical volume $v_s=d^3$ and $w_s=d^6$ we find\n",
    "\n",
    "$$\n",
    "v_c=v_s\\left (\\frac{n}{N}\\right )^2=v_s\\left(\\frac{b}{d} \\right )^2=b^2 d\n",
    "$$\n",
    "\n",
    "Thus the excluded volume for the interaction of two rods is larger than the actual rod volume itself, which is \n",
    "\n",
    "$$\n",
    "v_0=bd^2\n",
    "$$\n",
    "\n",
    "which is the result of random orientations. If the aspect ratio, i.e. the ratio of the two volumes $v_c/v_0$ is large, this excess excluded volume is the driving force for a nematic (aligment) ordering of the rodlike segments as originally described by Onsager for liquid crystalline systems."
   ]
  },
  {
   "cell_type": "markdown",
   "id": "ae1b2857-5813-4168-9422-3948b2f5c14b",
   "metadata": {},
   "source": [
    "## Solvent Classification\n"
   ]
  },
  {
   "cell_type": "markdown",
   "id": "8bd250d1-ac86-410f-85ea-870781ff019e",
   "metadata": {},
   "source": [
    "- **Athermal Solvents** Here, $v$ is independent of temperature. The system only features hard core repulsion and $v ≈ b^2d$. Monomer-monomer contact is energetically indistinguishable from monomer-solvent contact, for example.\n",
    "\n",
    "- **Good solvents** Excluded volume is reduced due to monomer-monomer attraction. The effect of this attraction is greater at lower temperatures, causing a reduction in the excluded volume. $0 < v < b^2d$\n",
    "\n",
    "- **Theta solvent** The (positive) contribution to excluded volume from hard core repulsion is exactly balanced by that (negative) due to attractions and so $v = 0$. The chains thus have nearly ideal conformations. This occurs at a temperature called the theta temperature,$Θ$, which is analogous to the Boyle temperature in thermodynamics.\n",
    "\n",
    "- **Poor solvents** Excluded volume is negative due to large attractive interactions between the monomers, which prefer monomer-monomer contact strongly over monomer-solvent contact. Chain dimensions are reduced relative to ideal. $−b^2d < v < 0$.\n",
    "\n",
    "- **Non-solvents** Here, $v ≈ −b^2d$ and the polymer collapses into a very compact structure that excludes all solvent.\n"
   ]
  },
  {
   "cell_type": "markdown",
   "id": "b9dfd002-9918-4e0e-b856-716996570533",
   "metadata": {},
   "source": [
    "## Flory theory (in a good solvent)"
   ]
  },
  {
   "cell_type": "markdown",
   "id": "1c2aff89-e2ce-4301-8ce2-178bd2aac342",
   "metadata": {},
   "source": [
    "Flory treated the question of equilibrium conformation of real chains using a mean field approach. The equilibrium size is set by a balance between excluded volume which tends to expand the chain size, and a restoring force due to loss of conformational entropy due to swelling. The energetic contribution due to excluded volume is given by the number of excluded volume interactions within a coil and the cost of each exclusion, $k_B T$. The number of excluded volume interactions is just the probability of finding a monomer within the excluded volume of another. If we assume a mean density of monomers in the coil, $N/R^3$, then the number of excluded volume interactions per monomer is $vN/R^3$ and for $N$ monomers in the coil, the energetic contribution is\n",
    "\n",
    "$$\n",
    "F_{\\text {int }} \\approx k_B T v \\frac{N^{2}}{R^{3}}\n",
    "$$\n",
    "\n",
    "The entropic energy due to expansion of the coil is, as we have calculated before, given as \n",
    "\n",
    "\n",
    "$$\n",
    "F_{\\text {entropic }} \\approx k_B T \\frac{R^{2}}{N b^{2}}\n",
    "$$\n",
    "\n",
    "\n",
    "which gives a total free energy\n",
    "\n",
    "$$\n",
    "F \\approx k_B T\\left(v \\frac{N^{2}}{R^{3}}+\\frac{R^{2}}{N b^{2}}\\right)\n",
    "$$"
   ]
  },
  {
   "cell_type": "code",
   "execution_count": 7,
   "id": "dff8be1b-fb01-4d71-8c1f-768351f96a2f",
   "metadata": {},
   "outputs": [],
   "source": [
    "def F(R):\n",
    "    T=293.15\n",
    "    v=10\n",
    "    b=0.5\n",
    "    N=3\n",
    "    return k*T*(v*N**2/R**3+R**2/(N*b**2))"
   ]
  },
  {
   "cell_type": "raw",
   "id": "8200381c-2652-4d88-8a3e-5f02793dd3df",
   "metadata": {},
   "source": [
    "::: {.content-visible when-format=\"html\"}"
   ]
  },
  {
   "cell_type": "code",
   "execution_count": 8,
   "id": "efb18dc4-abfa-4c08-ac4e-1ff7dad1a80b",
   "metadata": {
    "tags": []
   },
   "outputs": [
    {
     "data": {
      "image/png": "[encoded data removed]",
      "text/plain": [
       "<Figure size 640x480 with 1 Axes>"
      ]
     },
     "metadata": {
      "image/png": {
       "height": 458,
       "width": 617
      }
     },
     "output_type": "display_data"
    }
   ],
   "source": [
    "R=np.linspace(1, 10)\n",
    "plt.plot(R, F(R))\n",
    "plt.xlabel(\"end to end distance R\")\n",
    "plt.ylabel(\"Free Energy F(R)\")\n",
    "plt.tight_layout()\n",
    "plt.savefig(\"img/free_energy.png\")\n",
    "plt.show()"
   ]
  },
  {
   "cell_type": "raw",
   "id": "d17eef45-dcc2-4966-9056-53a395c8ee08",
   "metadata": {},
   "source": [
    ":::"
   ]
  },
  {
   "cell_type": "raw",
   "id": "e14a34f9-83af-4301-854c-f8877e1f9c27",
   "metadata": {},
   "source": [
    "::: {.content-visible unless-format=\"html\"}\n",
    "![](img/free_energy.png)\n",
    ":::"
   ]
  },
  {
   "cell_type": "markdown",
   "id": "a3e7000b-db35-415c-9530-a824e984a884",
   "metadata": {},
   "source": [
    "The total free enery as a function of the end to end distance $R$ has two components which either decay with $R^{-3}$ or increase with $R^2$. Therefore this function has a minimum, i.e.\n",
    "\n",
    "$$\n",
    "\\frac{\\partial F}{ \\partial R}\\bigg |_{R_{F}}=0\n",
    "$$\n",
    "\n",
    "at a particular end to end distance, which is the so-called Flory radius $R_F$. From the derivative we find\n",
    "\n",
    "$$\n",
    "R_{F} \\approx v^{1 / 5} b^{2 / 5} N^{3 / 5}\n",
    "$$\n",
    "\n",
    "which shows, that the size of a real polymer chain scales with $N^{3 / 5}$, where $\\nu=3/5=0.6$ is the Flory exponent, which has to be compared to $\\nu=1/2$ for an ideal (Gaussian chain). The polymer size thus scales stronger with the number of segments in the polymer, which seems at first glance a small difference, but due to the large numbers involved for $N$, this could make quite some difference. "
   ]
  },
  {
   "cell_type": "markdown",
   "id": "f78e8ae2-7413-4080-bdd0-6edfabe1e0f4",
   "metadata": {},
   "source": [
    "**insert experimental plot here**"
   ]
  },
  {
   "cell_type": "markdown",
   "id": "5503f191-48d4-4e5e-99a1-f3c5af197635",
   "metadata": {},
   "source": [
    "The simple approach taken by Flory provides surprisingly good results - more modern theories/calculations provide $R ∼ N^{0.588}$. However, the success of the Flory theory is due to a cancelation of errors. The excluded volume contributions are overestimated as correlations between monomers (which decrease the probability of overlap) are not considered. At the same time, the entropic restoring force is also overestimated. Nevertheless, such approaches based on a mean field approximation of density combined with ideal chain conformation-derived entropy can provide quite useful results, for example in the case of an adsorbed chain.\n",
    "The treatment of the case for $v < 0$ in the preceding simple manner leads to an aphysical result for the coil size that minimizes the total free energy. Stabilizing terms need to be considered."
   ]
  },
  {
   "cell_type": "markdown",
   "id": "86b99424-ff69-493d-b935-79a7e56c826e",
   "metadata": {},
   "source": [
    "## Flory Theory (in all solvents)"
   ]
  },
  {
   "cell_type": "markdown",
   "id": "392465d6-e674-4f61-ad94-27c878d411f3",
   "metadata": {},
   "source": [
    "To extend the Flory theory for all kinds of solvents you have to go back to the virial expansion of the free energy density.\n",
    "\n",
    "$$\n",
    "\\frac{F_{int}}{V k_B T}=F_{0}+ vc^2+ wc^3+\\ldots\n",
    "$$\n",
    "\n",
    "which essentially contains a contribution of the ideal chain, plus the corrections in orders of the segment density $c$. The ideal chain therby contributes the entropic part and the real chain correction gives the free volume correction. The main difference now to the good solvent model is that the entropic part above has to include some additional term to include a repulsive Term\n",
    "\n",
    "$$\n",
    "F_{\\text {entropic }} \\approx k_B T \\frac{R^{2}}{N b^{2}}+ \\underbrace{\\frac{Nb^2}{R^2}}_\\mathrm{new\\, term}\n",
    "$$\n",
    "\n",
    "In this way, the free energy is\n",
    "\n",
    "$$\n",
    "\\frac{F}{k_BT}=\\frac{R^2}{Nb^2}+\\frac{Nb^2}{R}+v \\frac{N^2}{R^3}+w \\frac{N^3}{R^6}+\\ldots\n",
    "$$\n",
    "\n",
    "Defining now the ratio of the end to end distance of the real chain and the ideal chain gives\n",
    "\n",
    "$$\n",
    "\\alpha^2=\\frac{\\langle R^2\\rangle}{\\langle R^2\\rangle_0=\\frac{R^2}{Nb^2}}\n",
    "$$\n",
    "\n",
    "results in \n",
    "\n",
    "$$\n",
    "\\frac{F}{k_B T}=\\alpha^2+\\alpha^{-2}+ \\frac{vN^{1/2}}{b^3}\\alpha^{-3}+\\frac{w}{b^6}\\alpha^{-6}\n",
    "$$\n",
    "\n",
    "This allows us to see that for\n",
    "\n",
    "- $\\alpha \\gg 1$ we have a good solvent with $R_F\\propto N^{3/5}$ and an extended polymer conformation\n",
    "- $\\alpha \\ll 1$ we find $R_F\\propto N^{1/3}$ with a collapsed polymer"
   ]
  },
  {
   "cell_type": "markdown",
   "id": "d5d35b38-97d3-42f9-8eb7-eda90312a7ea",
   "metadata": {},
   "source": [
    "## Temperature dependence of the chain size"
   ]
  },
  {
   "cell_type": "markdown",
   "id": "8059256b-af14-4b25-9002-7b736347e533",
   "metadata": {},
   "source": [
    "Using the Mayer f-function we can now also write down some basic ideas about the temperature dependence of the chain size. This is essentially hidden in the Boltzman factor including the potential energy $U(r)$.\n",
    "\n",
    "If this potential energy is much bigger than the thermal eneryg, i.e. $U(r)\\gg k_B T$, then we are commonly at small distances $r<b$ in the repulsive region. In this region, we can reduce the Mayer f-function to \n",
    "\n",
    "$$\n",
    "f(r)=\\exp\\left ( \\frac{U(r)}{k_B T}\\right)-1 \\approx -1\n",
    "$$\n",
    "\n",
    "essentially to $-1$.\n",
    "\n",
    "If, on the other side the distance is larger than the Kuhn length ($r>b$), the interaction potential is small as compared to $k_B T$ and we may write\n",
    "\n",
    "$$\n",
    "f(r)=\\exp\\left ( \\frac{U(r)}{k_B T}\\right)-1 \\approx -\\frac{U(r)}{k_B T}\n",
    "$$\n",
    "\n",
    "Following these approximation we may split the intergral, which yields the excluded volume into two parts\n",
    "\n",
    "$$\n",
    "v=-4\\pi \\int_0^{\\infty}f(r)r^2 dr\\approx 4\\pi \\int_0^{b}r^2 dr+\\frac{4\\pi}{k_B T}\\int_b^{\\infty}U(r)r^2dr\n",
    "$$\n",
    "\n",
    "This gives two terms, one the voume of the hard core repulsion and the second a term which comprises all the temperature dependent interaction. The dependencies can then be written as\n",
    "\n",
    "$$\n",
    "v\\approx \\left ( 1-\\frac{\\theta}{T}\\right ) b^3\n",
    "$$\n",
    "\n",
    "where $\\theta$ is the theta temperature, which is defined as\n",
    "\n",
    "$$\n",
    "\\theta\\approx -\\frac{1}{b^3 k_B}\\int_B^{\\infty}U(r) r^{2}dr\n",
    "$$\n",
    "\n",
    "According to this simplified formula for the excluded volume we see now the individual effects of solvent\n",
    "\n",
    "- $T<\\theta$ means the free volume is negative and we are in a **poor solvent**\n",
    "- $T=\\theta$ means that we have $v=0$, and we are in a $\\theta$-solvent\n",
    "- $T>\\theta$ means that we have $v>0$ and a **swelling** (growth) of the polymer\n",
    "- $T\\gg\\theta$ means we are in the **athermal** situation such that $v=b^{3}$\n",
    "\n"
   ]
  },
  {
   "cell_type": "markdown",
   "id": "f965bb56-4481-445b-bf48-ae0a3c0475da",
   "metadata": {},
   "source": [
    "**display experimental graph from Colby**"
   ]
  }
 ],
 "metadata": {
  "kernelspec": {
   "display_name": "Python 3 (ipykernel)",
   "language": "python",
   "name": "python3"
  },
  "language_info": {
   "codemirror_mode": {
    "name": "ipython",
    "version": 3
   },
   "file_extension": ".py",
   "mimetype": "text/x-python",
   "name": "python",
   "nbconvert_exporter": "python",
   "pygments_lexer": "ipython3",
   "version": "3.8.16"
  },
  "widgets": {
   "application/vnd.jupyter.widget-state+json": {
    "state": {},
    "version_major": 2,
    "version_minor": 0
   }
  }
 },
 "nbformat": 4,
 "nbformat_minor": 5
}
