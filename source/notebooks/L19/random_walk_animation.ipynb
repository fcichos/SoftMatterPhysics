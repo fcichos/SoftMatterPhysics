{
 "cells": [
  {
   "cell_type": "code",
   "execution_count": null,
   "id": "cba4adb7-a7f1-4c4e-85f9-8ee1220073b9",
   "metadata": {},
   "outputs": [],
   "source": [
    "import matplotlib.pyplot as plt\n",
    "import numpy as np\n",
    "\n",
    "import matplotlib.animation as animation\n",
    "from IPython.display import HTML"
   ]
  },
  {
   "cell_type": "code",
   "execution_count": null,
   "id": "d1b3af21-e3ef-4160-8bb5-a9099188b492",
   "metadata": {},
   "outputs": [],
   "source": [
    "b = 1 # kuhn length\n",
    "position_number = 200\n",
    "current_r = np.array([0, 0], dtype=float)\n",
    "x_pos = np.zeros((position_number), dtype=float)\n",
    "y_pos = np.zeros((position_number), dtype=float)\n",
    "for i in range(position_number):\n",
    "    phi = np.random.uniform(0, 360) * np.pi / 180\n",
    "    if i == 0:\n",
    "        x_pos[i] = 0\n",
    "        y_pos[i] = 0\n",
    "    else:\n",
    "        x_pos[i] = x_pos[i-1] + b * np.cos(phi)\n",
    "        y_pos[i] = y_pos[i-1] + b * np.sin(phi)"
   ]
  },
  {
   "cell_type": "code",
   "execution_count": null,
   "id": "b6d0a925-5074-4ddd-9e5b-a1a4267d11a7",
   "metadata": {},
   "outputs": [],
   "source": [
    "fig, ax = plt.subplots()\n",
    "\n",
    "ax.scatter(0, 0, color=\"orange\")\n",
    "scat = ax.scatter(x_pos[0], y_pos[0], marker=\".\", s=0.4, color=\"red\")\n",
    "line, = ax.plot(x_pos[0], y_pos[0], linewidth=0.4, color=\"black\")\n",
    "ax.set_title(\"Random walk (FJC)\")\n",
    "ax.set_xlabel(\"x\")\n",
    "ax.set_ylabel(\"y\")\n",
    "ax.set(xlim=[-15, 15], ylim=[-15, 15])\n",
    "\n",
    "def update(frame):\n",
    "    # print(frame)\n",
    "    x = x_pos[:frame]\n",
    "    y = y_pos[:frame]\n",
    "    data = np.stack([x, y]).T\n",
    "    scat.set_offsets(data)\n",
    "\n",
    "    line.set_xdata(x)\n",
    "    line.set_ydata(y)\n",
    "    return (scat, line)\n",
    "\n",
    "ani = animation.FuncAnimation(fig=fig, func=update, frames=position_number, interval=100)\n",
    "HTML(ani.to_html5_video())"
   ]
  }
 ],
 "metadata": {
  "kernelspec": {
   "display_name": "Python 3 (ipykernel)",
   "language": "python",
   "name": "python3"
  },
  "language_info": {
   "codemirror_mode": {
    "name": "ipython",
    "version": 3
   },
   "file_extension": ".py",
   "mimetype": "text/x-python",
   "name": "python",
   "nbconvert_exporter": "python",
   "pygments_lexer": "ipython3",
   "version": "3.8.16"
  },
  "widgets": {
   "application/vnd.jupyter.widget-state+json": {
    "state": {},
    "version_major": 2,
    "version_minor": 0
   }
  }
 },
 "nbformat": 4,
 "nbformat_minor": 5
}
