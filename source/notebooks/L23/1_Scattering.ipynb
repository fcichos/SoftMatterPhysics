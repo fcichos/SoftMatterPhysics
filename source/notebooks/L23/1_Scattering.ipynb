{
 "cells": [
  {
   "cell_type": "markdown",
   "id": "8b239e3c",
   "metadata": {},
   "source": [
    "# Scattering Techniques for Polymer Conformation"
   ]
  },
  {
   "cell_type": "markdown",
   "id": "b768e07e",
   "metadata": {},
   "source": [
    "The scattering of electromagnetic or matter waves is a commonly used tool to obtain information about the conformation of polymer chains. Light wave, X-rays (SAXS) but also neutrons (SANS) are used to study polymer solutions. While all waves have their own pecularities, they are all based on the intereference of partial waves scattered at different segments of the polymer."
   ]
  },
  {
   "cell_type": "code",
   "execution_count": 4,
   "id": "cec59cd2",
   "metadata": {
    "nbsphinx": "hidden",
    "tags": []
   },
   "outputs": [],
   "source": [
    "import numpy as np\n",
    "import matplotlib.pyplot as plt\n",
    "from numpy.linalg import norm\n",
    "from scipy.constants import c,epsilon_0,e,physical_constants\n",
    "import json\n",
    "\n",
    "%config InlineBackend.figure_format = 'retina' \n",
    "\n",
    "with open('style.json', 'r') as fp:\n",
    "    style = json.load(fp)\n",
    "    \n",
    "plt.rcParams.update(style) "
   ]
  },
  {
   "cell_type": "markdown",
   "id": "bb0e4030",
   "metadata": {},
   "source": [
    "A solution of different polymer chains (assume its dilute) has different length scales involved. There is an average distance between the polymer chains which is large as compared to the polymer size. Waves that interfere when being scattered from different polymers reflect the structure of the solution and is commonly addressed in a scattering quantity, which is the **structure factor**. Waves that are scattered by the same chain and interfer are a measure of the polymer conformation and described by the **form factor**. Yet, this scale seperation might not always be possible in dense polymer solutions."
   ]
  },
  {
   "cell_type": "markdown",
   "id": "8f8015e5",
   "metadata": {},
   "source": [
    "## Form Factor"
   ]
  },
  {
   "cell_type": "markdown",
   "id": "a1bed9bc",
   "metadata": {},
   "source": [
    "We would like to consider the form factor only, which gives us information on the polymer conformation. We have an incident plane wave with the wave vector $\\vec{q}_i$ which is falling on our polymer chain. The wavevector has a direction and magnitude according to \n",
    "\n",
    "$$\n",
    "\\vec{q}_i=\\frac{2\\pi}{\\lambda}\\vec{u}_i\n",
    "$$\n",
    "\n",
    "where $\\lambda$ is the wavelength. Note that you should take care of the corresponding refractive index $n$ in the case of light scattering ($\\lambda=\\lambda_0/n$). We will neglect the refractive index in the following, as it does not change the qualitative results. \n",
    "\n",
    "![Scattering](img/scattering.png)\n",
    "\n",
    "The scattered light is then observed in a different direction, e.g. along the direction $\\vec{u}_s$, which results in a scattered wavevector $\\vec{q}_s$. Considering now the scattered wave from two segments of the polymer at $\\vec{R}_i$ and $\\vec{R}_j$ results in a path length difference $\\Delta$ between the two waves, that is given by the indcident wave path different and the scattered wave path difference.\n",
    "\n",
    "$$\n",
    "\\Delta = \\vec{u}_i\\cdot \\vec{R}_j - \\vec{u}_s\\cdot \\vec{R}_j=(\\vec{u}_i-\\vec{u}_s)\\cdot \\vec{R}_j\n",
    "$$\n",
    "\n",
    "This path difference translates into a phase difference if the waves\n",
    "\n",
    "$$\n",
    "\\varphi_{j}=\\frac{2 \\pi}{\\lambda}\\left(\\vec{u}_{\\mathrm{i}}-\\vec{u}_{\\mathrm{s}}\\right) \\cdot \\vec{R}_{j}=\\left(\\vec{q}_{\\mathrm{i}}-\\vec{q}_{\\mathrm{s}}\\right) \\cdot \\vec{R}_{j}=\\vec{q} \\cdot \\vec{R}_{j}\n",
    "$$\n",
    "\n",
    "Since the magnitude of the incident and the scattered wavevectors are the same, i.e.\n",
    "\n",
    "$$\n",
    "\\left|\\vec{q}_{i}\\right|=\\left|\\vec{q}_{s}\\right|=\\frac{2 \\pi}{\\lambda}\n",
    "$$\n",
    "\n",
    "we can express the magnitude of the vector $\\vec{q}$ denoting the momentum exchange during scattering, in terms of the scattering angle $\\theta$\n",
    "\n",
    "$$\n",
    "q \\equiv|\\vec{q}|=2\\left|\\vec{q}_{i}\\right| \\sin \\left(\\frac{\\theta}{2}\\right)=\\frac{4 \\pi}{\\lambda} \\sin \\left(\\frac{\\theta}{2}\\right)\n",
    "$$\n",
    "\n",
    "With the help of the phase angle, we can now find the electric field amplitude of the scattered waves of all segments $j$ with\n",
    "\n",
    "$$\n",
    "E_{\\mathrm{s}}=E_{\\mathrm{i}} \\sum_{j=1}^{N} A \\cos \\left(2 \\pi \\nu t-\\varphi_{j}\\right)\n",
    "$$\n",
    "\n",
    "\n",
    "which provides with its magnitude square also the intensity of the scattered wave.\n",
    "\n",
    "\n",
    "$$\n",
    "\\begin{aligned}\n",
    "I_{\\mathrm{s}} &=2 I_{\\mathrm{i}} A^{2} \\nu \\int_{0}^{1 / \\nu}\\left[\\sum_{j=1}^{N} \\cos \\left(2 \\pi \\nu t-\\varphi_{j}\\right)\\right]^{2} \\mathrm{~d} t \\\\\n",
    "&=2 I_{\\mathrm{i}} A^{2} \\nu \\int_{0}^{1 / \\nu}\\left[\\sum_{j=1}^{N} \\sum_{k=1}^{N} \\cos \\left(2 \\pi \\nu t-\\varphi_{j}\\right) \\cos \\left(2 \\pi \\nu t-\\varphi_{k}\\right)\\right] \\mathrm{d} t \\\\\n",
    "&=I_{\\mathrm{i}} A^{2} \\nu \\int_{0}^{1 / \\nu}\\left[\\sum_{j=1}^{N} \\sum_{k=1}^{N}\\left(\\cos \\left(4 \\pi \\nu t-\\varphi_{j}-\\varphi_{k}\\right)+\\cos \\left(\\varphi_{k}-\\varphi_{j}\\right)\\right)\\right] \\mathrm{d} t\n",
    "\\end{aligned}\n",
    "$$\n",
    "\n",
    "The first term in the sum turns out to be zero when integrated over time, such that only the difference of the the two individual phase angles is important.\n",
    "\n",
    "\n",
    "$$\n",
    "I_{s}(\\vec{q})=\\underbrace{I_{i} A^{2} N^{2}}_{I_{s}(0)} \\underbrace{\\frac{1}{N^{2}} \\sum_{k=1}^{N} \\sum_{j=1}^{N} \\cos \\left(\\varphi_{k}-\\varphi_{j}\\right)}_{P(\\vec{q})}\n",
    "$$\n",
    "\n",
    "The latter double sum inlcuding a prefactor defines the **from factor**\n",
    "\n",
    "\n",
    "$$\n",
    "P(\\vec{q}) \\equiv \\frac{I_{\\mathrm{s}}(\\vec{q})}{I_{\\mathrm{s}}(0)}\\tag{form factor}\n",
    "$$\n",
    "\n",
    "Inserting the expression for the individual phase angles yields\n",
    "\n",
    "$$\n",
    "P(\\vec{q})=\\frac{1}{N^{2}} \\sum_{i=1}^{N} \\sum_{j=1}^{N} \\cos \\left[\\vec{q} \\cdot\\left(\\vec{R}_{i}-\\vec{R}_{j}\\right)\\right]\n",
    "$$\n",
    "\n",
    "We therefore have to calculate the average over the phase angles or exchanged momentum times the position difference between two segments\n",
    "\n",
    "$$\n",
    "\\left\\langle\\cos \\left[\\vec{q} \\cdot\\left(\\vec{R}_{i}-\\vec{R}_{j}\\right)\\right]\\right\\rangle=\\frac{1}{4 \\pi} \\int_{0}^{2 \\pi}\\left[\\int_{0}^{\\pi} \\cos \\left(q R_{i j} \\cos \\alpha\\right) \\sin \\alpha \\mathrm{d} \\alpha\\right] \\mathrm{d} \\beta\n",
    "$$\n",
    "\n",
    "Using \n",
    "\n",
    "\n",
    "$$\n",
    "\\vec{q} \\cdot\\left(\\vec{R}_{i}-\\vec{R}_{j}\\right)=q R_{i j} \\cos \\alpha\n",
    "$$\n",
    "\n",
    "directly gives us the idea that the averaged cosine results in a sinus cardinalis\n",
    "\n",
    "$$\n",
    "\\left\\langle\\cos \\left[\\vec{q} \\cdot\\left(\\vec{R}_{i}-\\vec{R}_{j}\\right)\\right]\\right\\rangle=\\frac{1}{2} \\int_{-1}^{1} \\cos \\left(q R_{i j} x\\right) \\mathrm{d} x=\\frac{\\sin \\left(q R_{i j}\\right)}{q R_{i j}}\n",
    "$$\n",
    "\n",
    "which is reminiscent of the single slit result or the Fourier transform of the segment distribution in the scattering objects components:\n",
    "\n",
    "$$\n",
    "P(q)=\\frac{1}{N^{2}} \\sum_{i=1}^{N} \\sum_{j=1}^{N} \\frac{\\sin \\left(q R_{i j}\\right)}{q R_{i j}}\n",
    "$$\n"
   ]
  },
  {
   "cell_type": "markdown",
   "id": "1ab7f736",
   "metadata": {},
   "source": [
    "## Radius of Gyration"
   ]
  },
  {
   "cell_type": "markdown",
   "id": "fa6c61eb",
   "metadata": {},
   "source": [
    "We can relate the latter result directly with properties of the polymer chain, like the radius of gyration.\n",
    "If we consider only values of the sinc argument which are $q R_ij<1$, i.e. we consider **small angle scattering**, we can expand the sinc function into\n",
    "\n",
    "$$\n",
    "\\frac{\\sin x}{x}=1-\\frac{x^{2}}{3 !}+\\frac{x^{4}}{5 !}-\\cdots\n",
    "$$\n",
    "\n",
    "This yields a form factor \n",
    "\n",
    "$$\n",
    "P(q)=1-\\frac{q^{2}}{6 N^{2}} \\sum_{i=1}^{N} \\sum_{j=1}^{N} R_{i j}^{2}+\\cdots \\quad \\text { for } q R<1\n",
    "$$\n",
    "\n",
    "which gives with the definition of the radius of gyration directly\n",
    "\n",
    "$$\n",
    "P(q)=1-\\frac{1}{3} q^{2}\\left\\langle R_{\\mathrm{g}}^{2}\\right\\rangle+\\cdots \\quad \\text { for } q R_{\\mathrm{g}}<1\n",
    "$$\n",
    "\n",
    "or\n",
    "\n",
    "$$\n",
    "P(q)=1-\\frac{16 \\pi^{2} n^{2}}{3 \\lambda^{2}}\\left\\langle R_{\\mathrm{g}}^{2}\\right\\rangle \\sin ^{2}\\left(\\frac{\\theta}{2}\\right)+\\cdots\n",
    "$$\n",
    "when inserting $q$. We will see in the derivation of the Debye function, that this inverse parabola can also be approximated with a Gaussian function\n",
    "\n",
    "$$\n",
    "P(q) \\cong \\exp \\left(-\\frac{q^{2} R_{\\mathrm{g}}^{2}}{3}\\right) \\quad \\text { for } q R_{\\mathrm{g}}<1\n",
    "$$\n",
    "\n",
    "which is termed the **Guinier function**."
   ]
  },
  {
   "cell_type": "markdown",
   "id": "c5ff016b",
   "metadata": {},
   "source": [
    "## Debye Function\n",
    "\n",
    "The above consideration is not taking into account that not all distances $R_{ij}$ have the same probability for a polymer chain. This was first taken into account by Pieter Debye in form of the ideal chain. The end-to-end distance distribution we have obtained earlier delivers the probability to find the ending segments of a polymer with $N$ Kuhn segments of length $b$ at a distance $R$. We can use this expression as well to give a probability density to find two segments $i,j$ at a distance $R_{ij}$, which is then given by\n",
    "\n",
    "\n",
    "$$\n",
    "p(R_{i j} ; \\underbrace{|i-j|}_{N}) d R_{i j}=\\left(\\frac{3}{2 \\pi|i-j| b^{2}}\\right)^{\\frac{3}{2}} e^{-3 R^{2}\\left(2|i-j| b^{2}\\right)} 4 \\pi R_{i j}^{2} d R_{i j}\n",
    "$$\n",
    "\n",
    "Note that the number of segments takes here the value N=|i-j|. Using this density distribution, we have to weight each contribution of the form factor with the corresponding probability density, i.e.\n",
    "\n",
    "\\begin{eqnarray}\n",
    "P(q)&=&\\frac{1}{N^{2}} \\sum_{i=1}^{N} \\sum_{j=1}^{N} \\int_{0}^{\\infty} \\frac{\\sin \\left(q R_{i j}\\right)}{q R_{i j}} P\\left(R_{i j},|i-j|\\right) 4 \\pi R_{i j}^{2} \\mathrm{~d} R_{i j}\\\\\n",
    "&=&\\frac{1}{N^{2}} \\sum_{i=1}^{N} \\sum_{j=1}^{N} \\exp \\left(-\\frac{q^{2} b^{2}|i-j|}{6}\\right)\n",
    "\\end{eqnarray}\n",
    "\n",
    "One can transform the double sum above in the case of large segment number into a double integral. The result is the Debye function \n",
    "\n",
    "$$\n",
    "P(q)=\\frac{2}{\\left(q^{2}\\left\\langle R_{\\mathrm{g}}^{2}\\right\\rangle\\right)^{2}}\\left[\\exp \\left(-q^{2}\\left\\langle R_{\\mathrm{g}}^{2}\\right\\rangle\\right)-1+q^{2}\\left\\langle R_{\\mathrm{g}}^{2}\\right\\rangle\\right]\\tag{Debye function}\n",
    "$$\n",
    "\n",
    "describing the scattering of an ideal chain, which is displayed in the graph below for two different radii of gyration."
   ]
  },
  {
   "cell_type": "code",
   "execution_count": 5,
   "id": "2cbd6b19",
   "metadata": {
    "nbsphinx": "hidden",
    "tags": []
   },
   "outputs": [],
   "source": [
    "def DebyeFunction(q,R_g):\n",
    "    return((np.exp(-(q*R_g)**2)-1+(q*R_g)**2)*2/((q*R_g)**2)**2)"
   ]
  },
  {
   "cell_type": "code",
   "execution_count": 6,
   "id": "43fbb80a",
   "metadata": {
    "nbsphinx": "hidden",
    "tags": []
   },
   "outputs": [],
   "source": [
    "q=np.linspace(0.1,10,100)\n",
    "R_g=1\n",
    "\n",
    "fig=plt.figure(figsize=(8,6))\n",
    "plt.ion()\n",
    "plt.plot(q,DebyeFunction(q,R_g),'k-',label=r\"$R_g=1$\")\n",
    "plt.plot(q,1-(q*R_g)**2/3,'b--')\n",
    "plt.plot(q,2/(q*R_g)**2,'b--')\n",
    "R_g=2\n",
    "plt.plot(q,DebyeFunction(q,R_g),'r-',label=r\"$R_g=2$\")\n",
    "plt.axvline(x=1,color='k',linestyle='-.')\n",
    "plt.axvline(x=2,color='r',linestyle='-.')\n",
    "plt.xlabel(r\"$q$\")\n",
    "plt.ylabel(r\"$P(q)$\")\n",
    "plt.ylim(0,1)\n",
    "plt.legend()\n",
    "plt.savefig(\"img/tmp1.pdf\")\n",
    "plt.close(fig)"
   ]
  },
  {
   "cell_type": "markdown",
   "id": "931c86be-b7e1-40df-b2df-ef03b10c472d",
   "metadata": {},
   "source": [
    "![tmp1](img/tmp1.pdf)"
   ]
  },
  {
   "cell_type": "markdown",
   "id": "e0e9263d",
   "metadata": {},
   "source": [
    "We can have a look at different limits again, e.g. the small angle limit for which we find the same result as in the derivation in the previous section\n",
    "\n",
    "$$\n",
    "P(q) \\cong\\left(1-\\frac{q^{2}\\left\\langle R_{\\mathrm{g}}^{2}\\right\\rangle}{3}+\\cdots\\right) \\quad \\text { for } q \\sqrt{\\left\\langle R_{\\mathrm{g}}^{2}\\right\\rangle}<1\n",
    "$$\n",
    "\n",
    "Similarly, we find \n",
    "\n",
    "$$\n",
    "P(q) \\cong \\frac{2}{q^{2}\\left\\langle R_{\\mathrm{g}}^{2}\\right\\rangle} \\quad \\text { for } q \\sqrt{\\left\\langle R_{\\mathrm{g}}^{2}\\right\\rangle}>1\n",
    "$$\n",
    "\n",
    "in the limit of large q, where the form factor decays as $1/q^2$. Both limits are included in the plot above to see their range of validity."
   ]
  },
  {
   "cell_type": "markdown",
   "id": "fb23b51e",
   "metadata": {},
   "source": [
    "While the Debye function is the result for a simple ideal Gaussian chain, the form factor can also be derived for many other polymer shapes. The table below reports some examples.\n",
    "\n",
    "\n",
    "![FormFactors](img/form.png)"
   ]
  }
 ],
 "metadata": {
  "kernelspec": {
   "display_name": "Python 3 (ipykernel)",
   "language": "python",
   "name": "python3"
  },
  "language_info": {
   "codemirror_mode": {
    "name": "ipython",
    "version": 3
   },
   "file_extension": ".py",
   "mimetype": "text/x-python",
   "name": "python",
   "nbconvert_exporter": "python",
   "pygments_lexer": "ipython3",
   "version": "3.8.16"
  },
  "toc": {
   "base_numbering": 1,
   "nav_menu": {},
   "number_sections": true,
   "sideBar": true,
   "skip_h1_title": false,
   "title_cell": "Table of Contents",
   "title_sidebar": "Contents",
   "toc_cell": false,
   "toc_position": {},
   "toc_section_display": true,
   "toc_window_display": false
  },
  "widgets": {
   "application/vnd.jupyter.widget-state+json": {
    "state": {},
    "version_major": 2,
    "version_minor": 0
   }
  }
 },
 "nbformat": 4,
 "nbformat_minor": 5
}
