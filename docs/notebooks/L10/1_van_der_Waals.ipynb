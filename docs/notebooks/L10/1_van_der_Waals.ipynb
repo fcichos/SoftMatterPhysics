{
 "cells": [
  {
   "cell_type": "markdown",
   "id": "a680ca65",
   "metadata": {},
   "source": [
    "# van der Waals Interactions"
   ]
  },
  {
   "cell_type": "markdown",
   "id": "b5f9ce86",
   "metadata": {},
   "source": [
    "So far we have considered electrostatic forces between charged and dipolar molecules. We have also introduced interactions which rely on the polarizability of molecules, either just the electronic polarizbility or also an orientational polarization of dipolar molecules. \n",
    "\n",
    "A part of these interactions showed a specific distance dependence, which was $r^{-6}$. In particular, we identified the **Keesom interaction**, i.e. the interaction of two freely rotating dipoles as well as the **Debye interaction**, i.e. the interaction of an induced dipole with a permanent dipole as two parts of the so-called van der Waals interaction.\n",
    "\n",
    "Yet there also interaction between non-charged and non-polar molecules and this interaction is also belonging to this class and is specifically called **dispersion interaction** or **London interaction**.\n",
    "\n",
    "As compared to other interactions, van der Waals interactions are typically\n",
    "\n",
    "- long range\n",
    "- attractive and orienting\n",
    "- not additive\n",
    "\n"
   ]
  },
  {
   "cell_type": "code",
   "execution_count": 150,
   "id": "66a1bb6e",
   "metadata": {
    "nbsphinx": "hidden",
    "tags": []
   },
   "outputs": [],
   "source": [
    "import numpy as np\n",
    "import matplotlib.pyplot as plt\n",
    "from numpy.linalg import norm\n",
    "from scipy.constants import c,epsilon_0,e,physical_constants\n",
    "import json\n",
    "\n",
    "%config InlineBackend.figure_format = 'retina' \n",
    "\n",
    "with open('style.json', 'r') as fp:\n",
    "    style = json.load(fp)\n",
    "    \n",
    "plt.rcParams.update(style) "
   ]
  },
  {
   "cell_type": "markdown",
   "id": "fbd0f201",
   "metadata": {},
   "source": [
    "## Dispersion Interaction"
   ]
  },
  {
   "cell_type": "markdown",
   "id": "b2937994",
   "metadata": {},
   "source": [
    "The dispersion part in particular, will require a quantum electrodynamic approach, which is beyond the scope of this lecture. We will will consider a much simpler approach at the beginning and later study the more general approach by McLachlan. "
   ]
  },
  {
   "cell_type": "markdown",
   "id": "3a7435f2",
   "metadata": {},
   "source": [
    "Consider first two atoms which have \n",
    "\n",
    "- no time averaged dipole\n",
    "- no residual charge\n",
    "\n",
    "Depite this fact, the atoms may have an instantaneous dipole, which is causing and induced dipole in the other atom. Similarly, the second atom may cause a corresponding dipole in the first atom as well. This will effectively lead to an attractive interaction, which carries the spirit of the dispersion interaction. We can put that into a simple and very crude model based on the most basic semi-classical description of an atom."
   ]
  },
  {
   "cell_type": "markdown",
   "id": "df5a306f",
   "metadata": {},
   "source": [
    "This atom may consist of an electron and proton, which are separated by a distance $a_0$, which corresponds to the Bohr radius. In this atom, the Coulomb interaction is given by\n",
    "\n",
    "\\begin{equation}\n",
    "E_{\\rm pot}=\\frac{e^2}{4\\pi \\epsilon_0 a_0}\n",
    "\\end{equation}\n",
    "\n",
    "This potential energy corresponds for an hydrogen atom to the ionization potential $I=13.6$ eV. To ionize the atom, we can use electromagnetic radiation of the frequency $\\nu=3.3\\times 10 ^{15}$ s$^{-1}$. Thus, in principle a photon of energy $h\\nu=2.2\\times 10^{-18}$ J would be sufficient to ionize the atom.\n",
    "\n",
    "Accordingly, we have \n",
    "\n",
    "$$h \\nu= \\frac{e^2}{4\\pi \\epsilon_0 a_0}$$\n",
    "\n",
    "or we can write, that the Bohr radius of the electron orbit is given by\n",
    "\n",
    "$$a_0=\\frac{e^2}{4\\pi\\epsilon_0 h\\nu}$$."
   ]
  },
  {
   "cell_type": "markdown",
   "id": "73f96b7e",
   "metadata": {},
   "source": [
    "In this simple classical picture the atom has an instantaneous dipole which corresponds to $u=a_0 e$. This dipole creates a dipole field, that induces a dipole in the second atom. Using our previous findings for the dipole - induced dipole interaction yields\n",
    "\n",
    "\\begin{equation}\n",
    "w(r)=-\\frac{u^2 \\alpha_0}{(4\\pi \\epsilon_0)^2 r^6}=-\\frac{(a_0 e)^2 \\alpha_0}{(4\\pi \\epsilon_0)^2 r^6}\n",
    "\\end{equation}\n",
    "\n",
    "where $\\alpha_0$ is the electronic polarizability $\\alpha_0=4\\pi \\epsilon_0 a_0^3$. The latter gives\n",
    "\n",
    "$$a_0^{2}=\\frac{\\alpha_0}{4\\pi \\epsilon_0 a_0}$$\n",
    "\n",
    "from which we finally find the interaction energy\n",
    "\n",
    "$$w(r)=-\\frac{a_0^2 e^2 \\alpha_0}{(4\\pi \\epsilon_0)^2 r^6}=-\\frac{\\alpha_0^2}{(4\\pi \\epsilon_0)^2}\\frac{e^2}{4\\pi \\epsilon_0 a_0 }\\frac{1}{r^6}$$\n",
    "\n",
    "or\n",
    "\n",
    "$$w(r)=-\\frac{\\alpha_0^2 h\\nu}{(4\\pi \\epsilon_0)^2 r^6}$$\n",
    "\n",
    "This simple semi-classical description corresponds to the result London (up to a factor of 3/4) obtained with a quantum-mechanical pertubation theory, which is\n",
    "\n",
    "\\begin{equation}\n",
    "w(r)=-\\frac{C_{\\rm disp}}{r^6}=-\\frac{3}{4}\\frac{\\alpha_0^2 h\\nu}{(4\\pi \\epsilon_0)^2 r^6}=-\\frac{3}{4}\\frac{\\alpha_0^2I}{(4\\pi \\epsilon_0)^2 r^6}\n",
    "\\end{equation}\n",
    "\n"
   ]
  },
  {
   "cell_type": "markdown",
   "id": "e24b28b3",
   "metadata": {},
   "source": [
    "So far, we assumed that both molecules have the same polarizability and thus are of the same type. If this is not the case, the interaction energy is given by \n",
    "\n",
    "\\begin{equation}\n",
    "w(r)=-\\frac{3}{2}\\frac{\\alpha_{01},\\alpha_{02}}{(4\\pi \\epsilon_0)^2 r^6}\\frac{I_1 I_2}{I_1+I_2}\n",
    "\\end{equation}"
   ]
  },
  {
   "cell_type": "markdown",
   "id": "101ec0f9",
   "metadata": {},
   "source": [
    "\n",
    "<div class=\"alert alert-info\">\n",
    "    \n",
    "**Example: Estimating the Boiling Point of Noble Gases**\n",
    "    \n",
    "We can use this formula for the dispersion energy to estimate the boiling point of noble gases. \n",
    "    \n",
    "    \n",
    "\\begin{equation}\n",
    "w(r)+E_{\\mathrm{kin}}=-\\frac{3 \\alpha_{0}^{2}}{4\\left(4 \\pi \\epsilon_{0}\\right)^{2} \\sigma^{6}} h v_{\\mathrm{I}}+\\frac{3}{2} k_{\\mathrm{B}} T_{\\mathrm{m}}=0\n",
    "\\end{equation}\n",
    "    \n",
    "    \n",
    "For Neon and Argon for example, we have the following parameters:\n",
    "    \n",
    "    \n",
    "    \n",
    "- Ne: $\\sigma=3.08$ Angstroem, $h\\nu_I=21.6$ eV, $\\frac{\\alpha_0}{4\\pi \\epsilon_0}=0.39\\times 10^{-30}$ m$^{-3}$, from which we obtain a boiling temperature of $T_{\\rm b}=22$ K, which nicely corresponds to the experimental value of $T_{\\rm b}=27$ K\n",
    "    \n",
    "    \n",
    "- Ar: $\\sigma=3.76$ Angstroem, $h\\nu_I=15.8$ eV, $\\frac{\\alpha_0}{4\\pi \\epsilon_0}=1.63\\times 10^{-30}$ m$^{-3}$, from which we obtain a boiling temperature of $T_{\\rm b}=85$ K, which nicely corresponds to the experimental value of $T_{\\rm b}=87$ K    \n",
    "\n",
    "    \n",
    "</div>"
   ]
  },
  {
   "cell_type": "markdown",
   "id": "2dcbda26",
   "metadata": {},
   "source": [
    "![Dispersion Interaction](img/c_disp.png)"
   ]
  },
  {
   "cell_type": "markdown",
   "id": "e32b0107",
   "metadata": {},
   "source": [
    "While the theory above provides us only with some idea about the dispersion interaction, we can now summarize all three contributions to the van der Waals interaction\n",
    "\n",
    "\n",
    "\\begin{equation}\n",
    "w_{\\rm vdW}(r)=-\\underbrace{\\frac{u_{1}^{2} u_{2}^{2}}{3 k_{\\mathrm{B}} T\\left(4 \\pi \\epsilon_{0} \\right)^{2} r^{6}}}_{\\text {Keesom }}-\\underbrace{\\frac{u_{1}^{2} \\alpha_{02}+u_{2}^{2} \\alpha_{01}}{\\left(4 \\pi \\epsilon_{0} \\right)^{2} r^{6}}}_{\\text {Debye }}-\\underbrace{\\frac{3 h\\nu_1\\nu_2 \\alpha_{01} \\alpha_{02}}{\\left(4 \\pi \\epsilon_{0} \\right)^{2} 2(\\nu_1+\\nu_2)r^{6}}}_{\\text {London} }\n",
    "\\end{equation}\n",
    "\n",
    "or simply\n",
    "\n",
    "\\begin{equation}\n",
    "w_{\\rm vdW}(r)=-\\frac{C_{\\rm vdW}}{r^6}=-\\frac{C_{\\rm Debye}+C_{\\rm Keesom}+C_{\\rm disp}}{r^6}\n",
    "\\end{equation}"
   ]
  },
  {
   "cell_type": "markdown",
   "id": "ad1d7454",
   "metadata": {},
   "source": [
    "The individual contributions have different strength, but it is not difficult to see that the dispersion interaction is typically the biggest one as shown in the table below. The reason for that is the ionization potential and we will address this issue later in the section of the McLachlan theory.\n",
    "\n",
    "![Comparison vdW](img/comp_vdw.png)"
   ]
  }
 ],
 "metadata": {
  "kernelspec": {
   "display_name": "Python 3 (ipykernel)",
   "language": "python",
   "name": "python3"
  },
  "language_info": {
   "codemirror_mode": {
    "name": "ipython",
    "version": 3
   },
   "file_extension": ".py",
   "mimetype": "text/x-python",
   "name": "python",
   "nbconvert_exporter": "python",
   "pygments_lexer": "ipython3",
   "version": "3.8.16"
  },
  "toc": {
   "base_numbering": 1,
   "nav_menu": {},
   "number_sections": true,
   "sideBar": true,
   "skip_h1_title": false,
   "title_cell": "Table of Contents",
   "title_sidebar": "Contents",
   "toc_cell": false,
   "toc_position": {},
   "toc_section_display": true,
   "toc_window_display": false
  },
  "widgets": {
   "application/vnd.jupyter.widget-state+json": {
    "state": {},
    "version_major": 2,
    "version_minor": 0
   }
  }
 },
 "nbformat": 4,
 "nbformat_minor": 5
}
