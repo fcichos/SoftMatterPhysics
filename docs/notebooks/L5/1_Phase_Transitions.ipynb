{
 "cells": [
  {
   "cell_type": "markdown",
   "metadata": {},
   "source": [
    "\n",
    "# Phase Transitions\n",
    "\n",
    "\n",
    "The importance of looking at phase transitions resides in the multicomponent nature of soft matter and its interaction energy scales.\n",
    "\n",
    "\n"
   ]
  },
  {
   "cell_type": "code",
   "execution_count": 1,
   "metadata": {},
   "outputs": [],
   "source": [
    "import numpy as np\n",
    "from ipywidgets import interact, interactive, fixed, interact_manual\n",
    "import ipywidgets as widgets\n",
    "import matplotlib.pyplot as plt\n",
    "\n",
    "%matplotlib inline\n",
    "%config InlineBackend.figure_format = 'retina' \n",
    "\n",
    "plt.rcParams.update({'font.size': 12,\n",
    "                     'axes.titlesize': 18,\n",
    "                     'axes.labelsize': 16,\n",
    "                     'axes.labelpad': 14,\n",
    "                     'lines.linewidth': 1,\n",
    "                     'lines.markersize': 10,\n",
    "                     'xtick.labelsize' : 16,\n",
    "                     'ytick.labelsize' : 16,\n",
    "                     'xtick.top' : True,\n",
    "                     'xtick.direction' : 'in',\n",
    "                     'ytick.right' : True,\n",
    "                     'ytick.direction' : 'in',}) "
   ]
  },
  {
   "cell_type": "markdown",
   "metadata": {},
   "source": [
    "When heat is applied, an ice cube undergoes melting, while water undergoes evaporation. These transformations involve the conversion of a solid into a liquid, which then changes into a vapor. Importantly, all of these changes are reversible. The term \"phase\" refers to a state of matter that is chemically and physically uniform. A substance can exist in solid, liquid, and gas phases, and some substances, like carbon, can have multiple solid phases, such as graphite and diamond. \n",
    "\n",
    "A phase transition is the spontaneous conversion of one phase to another, and it occurs at a specific temperature for a given pressure. At atmospheric pressure, ice melts at 0°C, and water boils at 100°C. The transition temperature is determined by the *equality of the chemical potential* of a specific element in the two phases.\n",
    "\n",
    "\n",
    "A phase diagram is a graphical representation that illustrates the conditions, such as temperature and pressure, at which different phases coexist or are present."
   ]
  },
  {
   "cell_type": "markdown",
   "metadata": {},
   "source": [
    "We will approach phase transitions no tstarting directly with the solid-liquid phase transition but first exploring the transition of a single macromolecule from the extended conformaiton into globular state. Following that we will have a look at liquid-liquid unmixing as example and later turn into the liquid-solid phase transitions."
   ]
  },
  {
   "cell_type": "markdown",
   "metadata": {},
   "source": [
    "## Liquid-Liquid Unmixing\n",
    "\n",
    "Consider two liquids consisting of molecules A and B, which we will bring together and mix. The mixing should happen at constant volume and temperature. We can therefore use the Helmholtz free energy as the quantity that is minimized.\n",
    "\n",
    "Initially, the separated components have the free energies $F_{\\rm A}$ and $F_{\\rm B}.$ After the mixing, the free energy that derives from the mixing is $F_{\\rm A+B}-(F_{\\rm A}+F_{\\rm B}).$ If the volume fraction of component A is $\\phi_{\\rm A}$ and the one of component B is $\\phi_{\\rm B}$ such that $\\phi_{\\rm A}+\\phi_{\\rm B}=1$ (incompressibility of the mixture), then we can calculate the mixing free energy .\n",
    "\n",
    "First we calculate the mixing entropy $S_{\\rm mix}$ from\n",
    "\n",
    "\\begin{equation}\n",
    "S=-k_{\\rm B}\\sum_{i}p_{i}\\ln(p_{i})\n",
    "\\end{equation}\n",
    "\n",
    "which results in\n",
    "\n",
    "\\begin{equation}\n",
    "S_{\\rm mix}=-k_{\\rm B}(\\phi_{\\rm A}\\ln(\\phi_{\\rm A})+\\phi_{\\rm B}\\ln(\\phi_{\\rm B})).\n",
    "\\end{equation}\n",
    "\n",
    "In addition to the mixing entropy, we have to calculate the change of the internal energy as well. This internal energy consists of an energy term that comprises the interaction of two molecules of the same type A ($\\epsilon_{\\rm AA}$), one of two molecules of the same type B ($\\epsilon_{\\rm BB}$), and one between the molecules A and B ($\\epsilon_{\\rm AB}$). If we assume that each site in the liquid has a number of neighbors, then the interaction energy of this site is \n",
    "\n",
    "\\begin{equation}\n",
    "z\\phi_{\\rm A}\\epsilon_{\\rm AA}.\n",
    "\\end{equation}\n",
    "\n",
    "A fraction of $\\phi_{\\rm A}$ sites is occupied with molecules A and, thus, the interaction energy reads\n",
    "\n",
    "\\begin{equation}\n",
    "\\frac{z}{2}\\phi_{\\rm A}^2\\epsilon_{\\rm AA}.\n",
    "\\end{equation}\n",
    "\n",
    "Similarly, expressions for the interaction of B molecules and the interaction of A with B can be obtained. To calculate the change in internal energy when mixing the two species, we still have to subtract the internal energy of the two separated components, $z\\phi_{\\rm A}\\epsilon_{\\rm AA}/2$ and $z\\phi_{\\rm B}\\epsilon_{\\rm BB}/2$, such that we obtain\n",
    "\n",
    "\\begin{equation}\n",
    "U_{\\rm mix}=\\frac{z}{2}\\left [(\\phi_{\\rm A}^2-\\phi_{\\rm A})\\epsilon_{\\rm AA}+(\\phi_{\\rm B}^2-\\phi_{\\rm B})\\epsilon_{\\rm BB}+2\\phi_{\\rm A}\\phi_{\\rm B}\\epsilon_{\\rm AB}\\right].\n",
    "\\end{equation}\n",
    "\n",
    "Using this expression as well as $\\phi_{\\rm A}+\\phi_{\\rm B}=1$, we can define an interaction parameter\n",
    "\n",
    "\\begin{equation}\n",
    "\\chi=\\frac{z}{2k_{\\rm B}T}(2\\epsilon_{\\rm AB}-\\epsilon_{\\rm AA}-\\epsilon_{\\rm BB})\n",
    "\\end{equation}\n",
    "\n",
    "such that\n",
    "\n",
    "\\begin{equation}\n",
    "\\frac{U_{\\rm mix}}{k_{\\rm B}T}=\\chi\\phi_{\\rm A}\\phi_{\\rm B}\n",
    "\\end{equation}\n",
    "\n",
    "by utilizing, for example, $(\\phi_{\\rm A}^2-\\phi_{\\rm A})\\epsilon_{\\rm AA}=\\phi_{\\rm A}(\\phi_{\\rm A}-1)\\epsilon_{\\rm AA}=-\\phi_{\\rm A}\\phi_{\\rm B}\\epsilon_{\\rm AA}$.\n",
    "\n",
    "This finally yields the free energy of mixing\n",
    "\n",
    "\\begin{equation}\n",
    "\\frac{F_{\\rm mix}}{k_{\\rm B}T}=\\phi_{\\rm A}\\ln(\\phi_{\\rm A})+\\phi_{\\rm B}\\ln(\\phi_{\\rm B})+\\chi\\phi_{\\rm A}\\phi_{\\rm B}.\n",
    "\\end{equation}\n",
    "\n",
    "We can now plot this free energy of mixing as a function of the volume fraction of component A.\n"
   ]
  },
  {
   "cell_type": "code",
   "execution_count": 2,
   "metadata": {},
   "outputs": [],
   "source": [
    "# define volume fraction variable\n",
    "phi=np.linspace(0.01,0.99,100)"
   ]
  },
  {
   "cell_type": "code",
   "execution_count": 5,
   "metadata": {},
   "outputs": [],
   "source": [
    "# calculate mixing free energy\n",
    "def mix(x):\n",
    "    m=phi*np.log(phi)+(1-phi)*np.log(1-phi)+x*phi*(1-phi)\n",
    "    plt.plot(phi,m)\n",
    "    plt.ylabel(r\"$\\frac{F_{\\rm mix}}{k_B T}$\")\n",
    "    plt.xlabel(r\"volume fraction $\\phi$\")\n",
    "    plt.show()\n"
   ]
  },
  {
   "cell_type": "markdown",
   "metadata": {},
   "source": [
    "\n",
    "_Free energy of mixing as a function of the composition of the binary liquid mixture for different interaction parameters._"
   ]
  },
  {
   "cell_type": "code",
   "execution_count": 6,
   "metadata": {},
   "outputs": [
    {
     "data": {
      "application/vnd.jupyter.widget-view+json": {
       "model_id": "2b79e440d9094014a2f3996c4d914cc6",
       "version_major": 2,
       "version_minor": 0
      },
      "text/plain": [
       "interactive(children=(FloatSlider(value=0.0, description='x', max=5.0, min=-1.0), Output()), _dom_classes=('wi…"
      ]
     },
     "metadata": {},
     "output_type": "display_data"
    }
   ],
   "source": [
    "# display interaction slider\n",
    "interact(mix, x=widgets.FloatSlider(min=-1, max=5, step=0.1));"
   ]
  },
  {
   "attachments": {},
   "cell_type": "markdown",
   "metadata": {},
   "source": [
    "\n",
    "\n",
    "The free energy function has a minimum at a composition of $\\phi=0.5$ for all $\\chi$ smaller than 2. In this region of interaction parameters, the two liquids are always miscible at any composition. For $\\chi$ larger than two, the free energy function reveals two minima, i.e., there are two compositions under which the mixture is stable (one left in phase B and one right in A). The location of these two minima defines what is called the **binodal** or **coexistence curve**, which separates the unstable from the stable region in a phase diagram (Figure 4). As the interaction parameter is proportional to $1/T$, these stable compositions are a function of the temperature.\n",
    "\n",
    "To understand the stability of a mixture, let us shorten the notation first. In all of the following considerations, we will denote $\\phi=\\phi_{\\rm A}.$ We will start with two mixtures we have prepared, which have a composition $\\phi_1$ and $\\phi_2$. If we take a volume $V_1$ of the first mixture and a volume $V_2$ of the second one and combine them to a volume $V_0$, then the two mixtures form again a new composition with\n",
    "\n",
    "\\begin{equation}\n",
    "\\phi_{0}V_{0}=\\phi_{1}V_{1}+\\phi_{2}V_{2}.\n",
    "\\end{equation}\n",
    "\n",
    "We can divide by $V_0$ and introduce two new volume fractions $\\alpha_1$, $\\alpha_2$ to yield\n",
    "\n",
    "\\begin{equation}\n",
    "\\phi_{0}=\\frac{V_{1}}{V_{0}}\\phi_{1}+\\frac{V_{2}}{V_{0}}\\phi_{1}=\\alpha_{1}\\phi_{1}+\\alpha_{2}\\phi_{2}.\n",
    "\\end{equation}\n",
    "\n",
    "The total free energy of the system of the two separated mixtures at these volume fractions can then be written as\n",
    "\n",
    "\\begin{equation}\n",
    "F_{\\rm sep}=\\alpha_{1}F_{\\rm mix}(\\phi_{1})+\\alpha_{2}F_{\\rm mix}(\\phi_{2}).\n",
    "\\end{equation}\n",
    "\n",
    "We can add this free energy as a function of the volume fraction $\\phi_0$ to our free energy curve, for example, for an interaction parameter $\\chi<2$. The two initial concentrations lie on the coexistence curve, but the starting composition $\\phi_0$ is not. Its initial free energy is $F_{\\rm sep}(\\phi_{0})$ and it is on a line connecting the points with the initial compositions, [Figure 2](PhaseTr_2.png). Since the actual free energy curve of the mixture is always lower than any point of the line denoting the separate free energies, the mixture is **stable**. This is true as long as the free energy curve is convex. \n",
    "\n",
    "<img src=\"img/PhaseTr_2.png\" alt=\"PT_2\" name=\"PT_2\" class=\"bg-primary mb-1\" width=\"400px\">\n",
    "\n",
    "Lets change the free energy curve to a situation with a maximum at $\\phi=0.5$. If we look at two situations, where one is in the region of the maximum and the second is next to the minimum (**???**). Close to the maximum, the line with the free energy of the separate components always falls below the free energy curve of the mixture. The composition is therefore **unstable**. Close to the minimum, however, the composition is stable, yet, the mixture is not at the minimum of the free energy curve. Eventually, the system will evolve towards the free energy minimum and thus the mixture is called **metastable**.\n",
    "\n",
    "![image-2.png](img/download-1.png)\n",
    "\n",
    "Apparently the above analysis has done nothing else than measuring the sign of the curvature of the free energy curve. We can summarize the conditions as\n",
    "\n",
    "\\begin{eqnarray} \n",
    "\\frac{\\mathrm d^2F_{\\rm mix}}{\\mathrm d\\phi^2} &>& 0\\ldots {\\rm stable}\\\\ \n",
    "\\frac{\\mathrm d^2F_{\\rm mix}}{\\mathrm d\\phi^2} &<& 0\\ldots {\\rm unstable}\\\\ \n",
    "\\frac{\\mathrm d^2F_{\\rm mix}}{\\mathrm d\\phi^2} &=& 0\\ldots {\\rm spinodal\\, line}\\\\ \n",
    "\\frac{\\mathrm d^3F_{\\rm mix}}{\\mathrm d\\phi^3} &=& 0\\ldots {\\rm critical\\, point} \n",
    "\\end{eqnarray}\n",
    "\n",
    "The spinodal line therefore separates the metastable from the unstable region. It corresponds to the deflection points of the free energy curve. The critical point, beyond which no phase separation can be achieved at any concentration $\\phi$ is defined by setting the third derivative to zero.\n",
    "\n",
    "![image-3.png](img/download-2.png)\n",
    "\n",
    "_Phase diagram of an ideal mixture. The interaction parameter is plotted as a function of the composition. The individual regions as defined by the above equation are indicated._\n",
    "\n",
    "We can now plot this free energy of mixing as a function of the volume fraction of component A.\n"
   ]
  }
 ],
 "metadata": {
  "kernelspec": {
   "display_name": "Python 3 (ipykernel)",
   "language": "python",
   "name": "python3"
  },
  "language_info": {
   "codemirror_mode": {
    "name": "ipython",
    "version": 3
   },
   "file_extension": ".py",
   "mimetype": "text/x-python",
   "name": "python",
   "nbconvert_exporter": "python",
   "pygments_lexer": "ipython3",
   "version": "3.8.16"
  },
  "toc": {
   "base_numbering": 1,
   "nav_menu": {},
   "number_sections": true,
   "sideBar": true,
   "skip_h1_title": false,
   "title_cell": "Table of Contents",
   "title_sidebar": "Contents",
   "toc_cell": false,
   "toc_position": {},
   "toc_section_display": true,
   "toc_window_display": false
  },
  "widgets": {
   "application/vnd.jupyter.widget-state+json": {
    "state": {},
    "version_major": 2,
    "version_minor": 0
   }
  }
 },
 "nbformat": 4,
 "nbformat_minor": 4
}
