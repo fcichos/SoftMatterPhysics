{
 "cells": [
  {
   "cell_type": "markdown",
   "id": "ce0909a3-fb00-4e66-bc30-74e0f4bccd70",
   "metadata": {},
   "source": [
    "# Viscoelasticity"
   ]
  },
  {
   "cell_type": "markdown",
   "id": "9384a669-a809-437c-9431-c771420fb52f",
   "metadata": {},
   "source": [
    "![Ranges](img/polymer_states_plain_without_entanglement.png)"
   ]
  },
  {
   "cell_type": "markdown",
   "id": "c5d22a32-04ea-4830-8caf-61f4ad7523aa",
   "metadata": {},
   "source": [
    "Viscoelsatic behavior is a mixture of viscous behavior, which we know already from simple liquids and elastic behavior, which is typical for solids. Yet, this mixture is not just a simple superposition but often quite complex and depending on the way mechanical deformation is introduced. \n",
    "\n",
    "![mechanical deformation example](img/mechanical_deformation.png)\n",
    "\n",
    "As already previously introduced, we can define a **shear stress** \n",
    "\n",
    "$$\n",
    "\\sigma=\\frac{F}{A}\n",
    "$$\n",
    "\n",
    "as the tangential force $F$ to an area $A$. As a response to such a stress, the material deforms and the deformation is called **shear strain**\n",
    "\n",
    "$$\n",
    "\\gamma =\\frac{\\Delta x}{L}\n",
    "$$\n",
    "\n",
    "which corresponds directly to the angle in the above sketch as long as the displacement is small. Within this description all parts of the sample experience the same shear stress and strain if the material is uniform.\n",
    "\n",
    "A perfectly elastic solid would give a very simple relation between stress and strain, i.e. \n",
    "\n",
    "$$\n",
    "\\sigma=G \\gamma\n",
    "$$\n",
    "\n",
    "where $G$ is the shear modulus. This corresponds to Hooke's law of elasticity, which is valid for small deformations or small strain.\n",
    "In case of a simple liquid with a dynamic viscosity $\\eta$, a constant strain leads to a zero shear stress. The liquid flow in response to the deformation and all flows have dissipated the initial deformation due to the internal friction of the liquid. Thus for liquids and viscous dissipation the **shear rate** may be of larger importance\n",
    "\n",
    "$$\n",
    "\\dot{\\gamma}=\\frac{d\\gamma}{dt}\n",
    "$$\n",
    "\n",
    "A constant stress in the liquid thus needs a constant strain rate such that\n",
    "\n",
    "$$\n",
    "\\sigma=\\eta \\dot{\\gamma} \\tag{Newton's law of viscosity}\n",
    "$$\n",
    "\n",
    "The response of an elastic or viscous material to stepwise introduced stress or strain is therefore different and helps o classify the mechanical material response.\n",
    "\n",
    "\n",
    "\n",
    "![Response](img/response.png)"
   ]
  },
  {
   "cell_type": "markdown",
   "id": "a85511cd-56af-4fe3-8f4a-a12c33d8b076",
   "metadata": {},
   "source": [
    "Accoding to this picture, and\n",
    "\n",
    "- **elastic solid** responds with a step stress to a step strain, but also with a step strain to a step stress\n",
    "- **viscous liquid** responds with a spike in the stress to a step strain and a linear strain to the step stress\n",
    "- **viscoelastic material** responds with an (exponential) decay to a stepp strain and an (exponential) increase to a limiting value to a step stress\n",
    "\n",
    "Viscoelasstic materials are thus materials that exhibit both viscous and elastic responses under applied mechanical stress and strain. As these responses are time dependent, viscoeleastic materials may show elastic behavior on short timescales but liquid on long timescales. Viscoelastic solids will always reach non-zero values for stress or strain after a certain amount of time, while for a viscoelastic material, the stress always decays to zero but the strain is able to grow without bounds."
   ]
  },
  {
   "cell_type": "markdown",
   "id": "185b1a96-1e9a-47ce-855f-fcbf43acb63e",
   "metadata": {},
   "source": [
    "## Models for Viscoelastic behavior"
   ]
  },
  {
   "cell_type": "markdown",
   "id": "b456dca8-93fa-4552-a3e8-a203d469ac4a",
   "metadata": {},
   "source": [
    "## Maxwell Model\n",
    "A model for a viscoelastic liquid is the Maxwell model being a serial combination of a spring and a dashpot (viscous element). \n",
    "\n",
    "![Maxwell](img/maxwell.png)\n",
    "\n",
    "\n",
    "## Kelvin-Voigt\n",
    "The Kelvin-Voigt model is a parallel combination of both elements and can grasp some features of a viscoelastic solid. It can however not describe the behavior for step strain.\n",
    "\n",
    "![Kelvin-Voigt](img/kelvinvoigt.png)\n",
    "\n",
    "## Standard Model\n",
    "A better model for visoelastic solids is the standard linear solid model comprising three mechanical elements.\n",
    "\n",
    "![Standard](img/standard.png)"
   ]
  },
  {
   "cell_type": "code",
   "execution_count": null,
   "id": "eae76912-a7c8-4976-879b-53b1eaf4c50c",
   "metadata": {},
   "outputs": [],
   "source": []
  }
 ],
 "metadata": {
  "kernelspec": {
   "display_name": "Python 3 (ipykernel)",
   "language": "python",
   "name": "python3"
  },
  "language_info": {
   "codemirror_mode": {
    "name": "ipython",
    "version": 3
   },
   "file_extension": ".py",
   "mimetype": "text/x-python",
   "name": "python",
   "nbconvert_exporter": "python",
   "pygments_lexer": "ipython3",
   "version": "3.8.16"
  },
  "widgets": {
   "application/vnd.jupyter.widget-state+json": {
    "state": {},
    "version_major": 2,
    "version_minor": 0
   }
  }
 },
 "nbformat": 4,
 "nbformat_minor": 5
}
