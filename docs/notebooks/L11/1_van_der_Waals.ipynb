{
 "cells": [
  {
   "cell_type": "markdown",
   "id": "0fa67cd0",
   "metadata": {},
   "source": [
    "# van der Waals Interaction"
   ]
  },
  {
   "cell_type": "markdown",
   "id": "fcdafbe9",
   "metadata": {},
   "source": [
    "The semiclassical theory we have developed in the last lecture can also be extended to objects and bodies which are embedded in media. We therefore consider a spherical particle of radius $a_i$ of dielectric constant $\\epsilon_i$ in a mediums of dielectric constant $\\epsilon$. If an external electric field is applied, that the particle is polarized to obtain a dipole \n",
    "\n",
    "\\begin{equation}\n",
    "u_{\\rm ind}=4\\pi \\epsilon_0 \\epsilon \\frac{\\epsilon_i-\\epsilon}{\\epsilon_i+2\\epsilon}a_i^3E\n",
    "\\end{equation}\n",
    "\n",
    "This result is obtained as the spheres polarization is also influenced by the electric field generated in the medium around the sphere. This local electric field that is relevant has been considered by **Clausius and Mossotti**. \n",
    "\n",
    "According to $u_{\\rm ind}=\\alpha E$, we readily obtain the polarizability \n",
    "\n",
    "\\begin{equation}\n",
    "\\alpha(\\nu)=4\\pi \\epsilon_0 \\epsilon_3(\\nu)\\frac{\\epsilon_1(\\nu)-\\epsilon_3(\\nu)}{\\epsilon_1(\\nu)+2\\epsilon_3(\\nu)}a_1^3\n",
    "\\end{equation}\n",
    "\n",
    "This result shows that the dielectric function of the particle $\\epsilon_1$ needs to be different from the environment to obtain a contribution, which justifies the name excess polarizability.\n",
    "\n",
    "Using this polarizability, we can write down the the van der Waals interaction energy by McLachlan as\n",
    "\n",
    "**Zero Frequency**\n",
    "\n",
    "\\begin{equation}\n",
    "w(r)=-\\frac{3k_B T a_{1}^3a_2^3}{r^6}\\left ( \\frac{\\epsilon_1(0)-\\epsilon_3(0)}{\\epsilon_1(0)+2\\epsilon_3(0)}\\right )\\left ( \\frac{\\epsilon_2(0)-\\epsilon_3(0)}{\\epsilon_2(0)+2\\epsilon_3(0)}\\right )\n",
    "\\end{equation}\n",
    "\n",
    "and at "
   ]
  },
  {
   "cell_type": "markdown",
   "id": "4869c53c",
   "metadata": {},
   "source": [
    "**Optical Frequencies**\n",
    "\n",
    "\\begin{equation}\n",
    "w(r)=-\\frac{3h a_{1}^3a_2^3}{\\pi r^6}\\int_{\\nu_1}^\\infty\\left ( \\frac{\\epsilon_1(i\\nu)-\\epsilon_3(i\\nu)}{\\epsilon_1(i\\nu)+2\\epsilon_3(i\\nu)}\\right )\\left ( \\frac{\\epsilon_2(i\\nu)-\\epsilon_3(i\\nu)}{\\epsilon_2(i\\nu)+2\\epsilon_3(i\\nu)}\\right )d\\nu\n",
    "\\end{equation}\n",
    "\n",
    "\n",
    "To calculate the interaction energy we therefore need to know the dielectric function over the whole frequency range, which is often not easily accessible. Yet, if there is a strong absorption of the material at $\\nu_e$ then the dielectric function can be written as\n",
    "\n",
    "$$\\epsilon(\\nu)=1+\\frac{n^2-1}{1-\\left (\\frac{\\nu}{\\nu_e}\\right )^2}$$\n",
    "\n",
    "which can be inserted and integrated in the above equations as a replacement.\n"
   ]
  },
  {
   "cell_type": "markdown",
   "id": "978594f3",
   "metadata": {},
   "source": [
    "<div class=\"alert alert-warning\">\n",
    "    \n",
    "**van der Waals interactions**\n",
    "\n",
    "Overall the van der Waals interactions have the following general properties\n",
    "    \n",
    "- since $h\\nu_e >>k_B T$ the dispersion interaction is much bigger that the rest of the interaction. For $\\epsilon=n^2\\approx 2$, and $\\nu_e=3\\times 10^{15}$ s$^{-1}$ we find $h\\nu_e/2\\sqrt{3}k_B T\\approx 140$\n",
    "- the van der Waals interaction is greatly reduced in a solvent as compared to vacuum. For $n_1=n_2=1.5$ and $n_3=1.4$ we obtain a factor of 32 as compared to $n_3=1$\n",
    "- the van der Waals force between like molecules is always attractive. The dispersion part can be repulsive, however, if $n_3$ is between $n_1$ and $n_2$\n",
    "- the van der Waals interaction is not additive\n",
    "- the dispersion interaction shows retardation effects, at distances larger than $100$ nm, it decays with $r^{-7}$\n",
    "    \n",
    "</div>"
   ]
  },
  {
   "cell_type": "markdown",
   "id": "c9144818",
   "metadata": {},
   "source": [
    "## Interaction Between Macroscopic Bodies"
   ]
  },
  {
   "cell_type": "markdown",
   "id": "f47532c9",
   "metadata": {},
   "source": [
    "The above equations, that we derived before are essentially valid between small objects at distances larger than their size. If objects become macroscopic, we have to consider the interaction of all components of a body with all components of the second body. To calculate those interactions, we will assume that all interactions are additive, while we know that this is not completely true for van der Waals forces. \n",
    "\n",
    "Our general law of interaction shall be\n",
    "\n",
    "$$w(r)=-\\frac{C}{r^n}$$\n",
    "\n",
    "where $C$ is the interaction constant, which comprises all additional constants in the interaction law.\n",
    "\n",
    "**a) a single molecule in front of a wall**\n"
   ]
  },
  {
   "cell_type": "markdown",
   "id": "c3a8cc28",
   "metadata": {},
   "source": [
    "![molecule_wall](img/molecule_body.png)\n",
    "\n",
    "\n",
    "According to the image above we see that the single molecule interacts with all molecules in a tiny volume element at a distance $r=\\sqrt{x^2+y^2}$ in the same way. This cylindral volume is given by\n",
    "\n",
    "$$2\\pi x dx dz$$\n",
    "\n",
    "and contains, based on the number density $\\rho$ of molecules in the wall and amount of $2\\pi x dx dz\\rho$ molecules. We then only have to sum up all contributions of shells with different $x$ and different $z$ which readily yields\n",
    "\n",
    "\n",
    "\\begin{eqnarray}\n",
    "w(D)&=&-2\\pi C\\rho\\int_z=D^{\\infty} dz \\int_{x=0}^{\\infty}\\frac{x dx}{(z^2+x^2)^(n/2)}=-\\frac{2\\pi C \\rho}{n-2}\\int_{D}^{\\infty}\\frac{dz}{z^{n-2}}\\\\\n",
    "&=&-\\frac{2\\pi C \\rho}{(n-2)(n-3)D^{n-3}}\\; \\forall\\; n>3\n",
    "\\end{eqnarray}\n",
    "\n",
    "Thus, if we would use the van der Waals interaction with $n=6$ we obtain\n",
    "\n",
    "\\begin{equation}\n",
    "w(D)=-\\frac{\\pi C \\rho}{6D^3}\n",
    "\\end{equation}\n",
    "\n",
    "which decays much weaker than the original power law of the van der Waals interaction law. This is a very general results, that the interactions law, which were obtained for point-like objects turn now into distance dependences that are more complex due to the extended shape of macroscopic bodies.\n"
   ]
  },
  {
   "cell_type": "markdown",
   "id": "2011016f-acbf-47fc-8b72-e2a98b8f46d4",
   "metadata": {},
   "source": [
    "**b) Interaction of a sphere with a wall**\n",
    "\n",
    "If we now turn now to a sphere in front of a wall, we have to add up all contributions of molecules in the sphere, which are at a certain distance $D$. Each of these molecules contributes according to a), so we have to add interactions of slices of the sphere, which are at a distance $D+z$.\n",
    "\n",
    "![Sphere Wall](img/sphere_wall.png)\n",
    "\n",
    "According to the figure, the radius of the slices is given by\n",
    "\n",
    "$$x^2=(2R-z)z$$\n",
    "\n",
    "which gives a volume of the slice, which is $\\pi x^2 dz=\\pi (2R-z)z dz$ that finally gives the number of molecules $\\rho \\pi (2R-z)dz$ with $\\rho$ being the number density of wall and sphere. Summing now up over all slices at a distance $z$ results in\n",
    "\n",
    "\\begin{equation}\n",
    "w(D)=-\\frac{2\\pi^2 C \\rho^2}{(n-2)(n-3)}\\int_0^{2R}\\frac{(2R-z)zdz}{(D+z)^{n-3}}\n",
    "\\end{equation}\n",
    "\n",
    "This results can be considered in different limits. \n",
    "\n",
    "For $D\\ll R$ we have mainly contributions from $z\\approx D$, which yield then \n",
    "\n",
    "\\begin{equation}\n",
    "w(D)=-\\frac{4\\pi^2 C \\rho^2 R}{(n-2)(n-3)(n-4)(n-5)D^{n-5}}\n",
    "\\end{equation}\n",
    "\n",
    "which would give for van der Waals interactions\n",
    "\n",
    "\\begin{equation}\n",
    "w(D)=-\\frac{\\pi^2 C \\rho^2 R}{6D}\n",
    "\\end{equation}\n",
    "\n",
    "which reveals a much weaker distance dependence than the original formula for the van der Waals interaction. This is again a general result for the interaction for the interaction of bodies at small distances.\n",
    "\n",
    "If the seperation of sphere and wall is much larger than the sphere itself $D\\gg R$, we can approximate the above integral with \n",
    "\n",
    "\\begin{equation}\n",
    "w(D)=-\\frac{2\\pi C \\rho (4\\pi R^3 \\rho/3 )}{(n-2)(n-3)D^{n-3}}\n",
    "\\end{equation}"
   ]
  },
  {
   "cell_type": "markdown",
   "id": "da2e4bdc-fb3d-4553-808b-e27c307afaa2",
   "metadata": {},
   "source": [
    "## Lifshitz Theory"
   ]
  }
 ],
 "metadata": {
  "kernelspec": {
   "display_name": "Python 3 (ipykernel)",
   "language": "python",
   "name": "python3"
  },
  "language_info": {
   "codemirror_mode": {
    "name": "ipython",
    "version": 3
   },
   "file_extension": ".py",
   "mimetype": "text/x-python",
   "name": "python",
   "nbconvert_exporter": "python",
   "pygments_lexer": "ipython3",
   "version": "3.8.16"
  },
  "toc": {
   "base_numbering": 1,
   "nav_menu": {},
   "number_sections": true,
   "sideBar": true,
   "skip_h1_title": false,
   "title_cell": "Table of Contents",
   "title_sidebar": "Contents",
   "toc_cell": false,
   "toc_position": {},
   "toc_section_display": true,
   "toc_window_display": false
  },
  "widgets": {
   "application/vnd.jupyter.widget-state+json": {
    "state": {},
    "version_major": 2,
    "version_minor": 0
   }
  }
 },
 "nbformat": 4,
 "nbformat_minor": 5
}
